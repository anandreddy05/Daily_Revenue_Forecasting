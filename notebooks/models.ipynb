{
 "cells": [
  {
   "cell_type": "code",
   "execution_count": 40,
   "metadata": {},
   "outputs": [],
   "source": [
    "import pandas as pd\n",
    "import numpy as np\n",
    "from pmdarima import auto_arima,ARIMA,model_selection\n",
    "import matplotlib.pyplot as plt\n",
    "from sklearn.metrics import mean_absolute_error,mean_absolute_percentage_error,root_mean_squared_error\n",
    "from sklearn.model_selection import ParameterGrid\n",
    "import warnings\n",
    "warnings.filterwarnings('ignore')"
   ]
  },
  {
   "cell_type": "code",
   "execution_count": 4,
   "metadata": {},
   "outputs": [
    {
     "data": {
      "application/vnd.microsoft.datawrangler.viewer.v0+json": {
       "columns": [
        {
         "name": "date",
         "rawType": "object",
         "type": "string"
        },
        {
         "name": "y",
         "rawType": "float64",
         "type": "float"
        },
        {
         "name": "discount_rate",
         "rawType": "object",
         "type": "string"
        },
        {
         "name": "coupon_rate",
         "rawType": "object",
         "type": "string"
        },
        {
         "name": "y_diff",
         "rawType": "float64",
         "type": "float"
        }
       ],
       "conversionMethod": "pd.DataFrame",
       "ref": "e5b07ed9-4801-4d56-a779-f1748d089a17",
       "rows": [
        [
         "2018-01-01",
         "6270839.0",
         "34.27%",
         "1.09%",
         null
        ],
        [
         "2018-01-02",
         "8922076.0",
         "30.87%",
         "1.08%",
         "2651237.0"
        ],
        [
         "2018-01-03",
         "8446101.0",
         "28.11%",
         "1.01%",
         "-475975.0"
        ],
        [
         "2018-01-04",
         "7785798.0",
         "27.32%",
         "0.96%",
         "-660303.0"
        ],
        [
         "2018-01-05",
         "6375303.0",
         "25.70%",
         "0.90%",
         "-1410495.0"
        ]
       ],
       "shape": {
        "columns": 4,
        "rows": 5
       }
      },
      "text/html": [
       "<div>\n",
       "<style scoped>\n",
       "    .dataframe tbody tr th:only-of-type {\n",
       "        vertical-align: middle;\n",
       "    }\n",
       "\n",
       "    .dataframe tbody tr th {\n",
       "        vertical-align: top;\n",
       "    }\n",
       "\n",
       "    .dataframe thead th {\n",
       "        text-align: right;\n",
       "    }\n",
       "</style>\n",
       "<table border=\"1\" class=\"dataframe\">\n",
       "  <thead>\n",
       "    <tr style=\"text-align: right;\">\n",
       "      <th></th>\n",
       "      <th>y</th>\n",
       "      <th>discount_rate</th>\n",
       "      <th>coupon_rate</th>\n",
       "      <th>y_diff</th>\n",
       "    </tr>\n",
       "    <tr>\n",
       "      <th>date</th>\n",
       "      <th></th>\n",
       "      <th></th>\n",
       "      <th></th>\n",
       "      <th></th>\n",
       "    </tr>\n",
       "  </thead>\n",
       "  <tbody>\n",
       "    <tr>\n",
       "      <th>2018-01-01</th>\n",
       "      <td>6270839.0</td>\n",
       "      <td>34.27%</td>\n",
       "      <td>1.09%</td>\n",
       "      <td>NaN</td>\n",
       "    </tr>\n",
       "    <tr>\n",
       "      <th>2018-01-02</th>\n",
       "      <td>8922076.0</td>\n",
       "      <td>30.87%</td>\n",
       "      <td>1.08%</td>\n",
       "      <td>2651237.0</td>\n",
       "    </tr>\n",
       "    <tr>\n",
       "      <th>2018-01-03</th>\n",
       "      <td>8446101.0</td>\n",
       "      <td>28.11%</td>\n",
       "      <td>1.01%</td>\n",
       "      <td>-475975.0</td>\n",
       "    </tr>\n",
       "    <tr>\n",
       "      <th>2018-01-04</th>\n",
       "      <td>7785798.0</td>\n",
       "      <td>27.32%</td>\n",
       "      <td>0.96%</td>\n",
       "      <td>-660303.0</td>\n",
       "    </tr>\n",
       "    <tr>\n",
       "      <th>2018-01-05</th>\n",
       "      <td>6375303.0</td>\n",
       "      <td>25.70%</td>\n",
       "      <td>0.90%</td>\n",
       "      <td>-1410495.0</td>\n",
       "    </tr>\n",
       "  </tbody>\n",
       "</table>\n",
       "</div>"
      ],
      "text/plain": [
       "                    y discount_rate coupon_rate     y_diff\n",
       "date                                                      \n",
       "2018-01-01  6270839.0        34.27%       1.09%        NaN\n",
       "2018-01-02  8922076.0        30.87%       1.08%  2651237.0\n",
       "2018-01-03  8446101.0        28.11%       1.01%  -475975.0\n",
       "2018-01-04  7785798.0        27.32%       0.96%  -660303.0\n",
       "2018-01-05  6375303.0        25.70%       0.90% -1410495.0"
      ]
     },
     "execution_count": 4,
     "metadata": {},
     "output_type": "execute_result"
    }
   ],
   "source": [
    "df = pd.read_csv(\"../data/preprocessed_data.csv\",index_col='date',parse_dates=True,dayfirst=True)\n",
    "df.head()"
   ]
  },
  {
   "cell_type": "code",
   "execution_count": 5,
   "metadata": {},
   "outputs": [],
   "source": [
    "periods = 30\n",
    "train,test = df.iloc[:-periods],df.iloc[-periods:]"
   ]
  },
  {
   "cell_type": "code",
   "execution_count": 6,
   "metadata": {},
   "outputs": [
    {
     "data": {
      "text/plain": [
       "Index(['2018-01-01', '2018-01-02', '2018-01-03', '2018-01-04', '2018-01-05',\n",
       "       '2018-01-06', '2018-01-07', '2018-01-08', '2018-01-09', '2018-01-10',\n",
       "       ...\n",
       "       '2022-10-22', '2022-10-23', '2022-10-24', '2022-10-25', '2022-10-26',\n",
       "       '2022-10-27', '2022-10-28', '2022-10-29', '2022-10-30', '2022-10-31'],\n",
       "      dtype='object', name='date', length=1765)"
      ]
     },
     "execution_count": 6,
     "metadata": {},
     "output_type": "execute_result"
    }
   ],
   "source": [
    "train.index"
   ]
  },
  {
   "cell_type": "code",
   "execution_count": 7,
   "metadata": {},
   "outputs": [],
   "source": [
    "train.index = pd.to_datetime(train.index)\n",
    "test.index = pd.to_datetime(test.index)"
   ]
  },
  {
   "cell_type": "code",
   "execution_count": 8,
   "metadata": {},
   "outputs": [
    {
     "data": {
      "application/vnd.microsoft.datawrangler.viewer.v0+json": {
       "columns": [
        {
         "name": "date",
         "rawType": "datetime64[ns]",
         "type": "datetime"
        },
        {
         "name": "y",
         "rawType": "float64",
         "type": "float"
        },
        {
         "name": "discount_rate",
         "rawType": "object",
         "type": "string"
        },
        {
         "name": "coupon_rate",
         "rawType": "object",
         "type": "string"
        },
        {
         "name": "y_diff",
         "rawType": "float64",
         "type": "float"
        }
       ],
       "conversionMethod": "pd.DataFrame",
       "ref": "a9aed467-e5a1-461b-9526-1800feb99871",
       "rows": [
        [
         "2018-01-01 00:00:00",
         "6270839.0",
         "34.27%",
         "1.09%",
         null
        ],
        [
         "2018-01-02 00:00:00",
         "8922076.0",
         "30.87%",
         "1.08%",
         "2651237.0"
        ],
        [
         "2018-01-03 00:00:00",
         "8446101.0",
         "28.11%",
         "1.01%",
         "-475975.0"
        ],
        [
         "2018-01-04 00:00:00",
         "7785798.0",
         "27.32%",
         "0.96%",
         "-660303.0"
        ],
        [
         "2018-01-05 00:00:00",
         "6375303.0",
         "25.70%",
         "0.90%",
         "-1410495.0"
        ],
        [
         "2018-01-06 00:00:00",
         "6095418.0",
         "25.02%",
         "0.87%",
         "-279885.0"
        ],
        [
         "2018-01-07 00:00:00",
         "7661844.0",
         "25.33%",
         "1.06%",
         "1566426.0"
        ],
        [
         "2018-01-08 00:00:00",
         "7036112.0",
         "24.83%",
         "1.03%",
         "-625732.0"
        ],
        [
         "2018-01-09 00:00:00",
         "7100900.0",
         "25.11%",
         "1.00%",
         "64788.0"
        ],
        [
         "2018-01-10 00:00:00",
         "7148865.0",
         "25.16%",
         "0.91%",
         "47965.0"
        ],
        [
         "2018-01-11 00:00:00",
         "7013113.0",
         "26.55%",
         "0.90%",
         "-135752.0"
        ],
        [
         "2018-01-12 00:00:00",
         "6094297.0",
         "25.81%",
         "0.94%",
         "-918816.0"
        ],
        [
         "2018-01-13 00:00:00",
         "5647838.0",
         "23.46%",
         "0.93%",
         "-446459.0"
        ],
        [
         "2018-01-14 00:00:00",
         "7377005.0",
         "23.76%",
         "1.11%",
         "1729167.0"
        ],
        [
         "2018-01-15 00:00:00",
         "6736977.0",
         "24.39%",
         "0.99%",
         "-640028.0"
        ],
        [
         "2018-01-16 00:00:00",
         "7194062.0",
         "26.07%",
         "0.98%",
         "457085.0"
        ],
        [
         "2018-01-17 00:00:00",
         "7124206.0",
         "24.64%",
         "0.93%",
         "-69856.0"
        ],
        [
         "2018-01-18 00:00:00",
         "6670106.0",
         "24.99%",
         "0.93%",
         "-454100.0"
        ],
        [
         "2018-01-19 00:00:00",
         "5805801.0",
         "25.60%",
         "0.98%",
         "-864305.0"
        ],
        [
         "2018-01-20 00:00:00",
         "5792547.0",
         "24.79%",
         "0.95%",
         "-13254.0"
        ],
        [
         "2018-01-21 00:00:00",
         "7430284.0",
         "23.32%",
         "1.07%",
         "1637737.0"
        ],
        [
         "2018-01-22 00:00:00",
         "6538657.0",
         "23.36%",
         "1.02%",
         "-891627.0"
        ],
        [
         "2018-01-23 00:00:00",
         "6973820.0",
         "27.27%",
         "1.05%",
         "435163.0"
        ],
        [
         "2018-01-24 00:00:00",
         "6555452.0",
         "25.33%",
         "0.93%",
         "-418368.0"
        ],
        [
         "2018-01-25 00:00:00",
         "6199426.0",
         "25.37%",
         "0.92%",
         "-356026.0"
        ],
        [
         "2018-01-26 00:00:00",
         "7464262.0",
         "29.88%",
         "7.90%",
         "1264836.0"
        ],
        [
         "2018-01-27 00:00:00",
         "6570872.0",
         "26.94%",
         "6.65%",
         "-893390.0"
        ],
        [
         "2018-01-28 00:00:00",
         "9382441.0",
         "26.40%",
         "7.30%",
         "2811569.0"
        ],
        [
         "2018-01-29 00:00:00",
         "5902767.0",
         "20.10%",
         "0.95%",
         "-3479674.0"
        ],
        [
         "2018-01-30 00:00:00",
         "6047600.0",
         "20.12%",
         "0.89%",
         "144833.0"
        ],
        [
         "2018-01-31 00:00:00",
         "6460824.0",
         "20.34%",
         "0.91%",
         "413224.0"
        ],
        [
         "2018-02-01 00:00:00",
         "6108498.0",
         "20.17%",
         "0.83%",
         "-352326.0"
        ],
        [
         "2018-02-02 00:00:00",
         "5203061.0",
         "19.23%",
         "0.85%",
         "-905437.0"
        ],
        [
         "2018-02-03 00:00:00",
         "5445384.0",
         "18.19%",
         "0.85%",
         "242323.0"
        ],
        [
         "2018-02-04 00:00:00",
         "6537030.0",
         "14.86%",
         "1.01%",
         "1091646.0"
        ],
        [
         "2018-02-05 00:00:00",
         "6024455.0",
         "19.39%",
         "0.98%",
         "-512575.0"
        ],
        [
         "2018-02-06 00:00:00",
         "6430525.0",
         "19.23%",
         "0.91%",
         "406070.0"
        ],
        [
         "2018-02-07 00:00:00",
         "5934381.0",
         "18.51%",
         "0.86%",
         "-496144.0"
        ],
        [
         "2018-02-08 00:00:00",
         "5890259.0",
         "22.04%",
         "0.90%",
         "-44122.0"
        ],
        [
         "2018-02-09 00:00:00",
         "5648454.0",
         "24.59%",
         "0.93%",
         "-241805.0"
        ],
        [
         "2018-02-10 00:00:00",
         "5153653.0",
         "21.47%",
         "0.92%",
         "-494801.0"
        ],
        [
         "2018-02-11 00:00:00",
         "6477649.0",
         "18.89%",
         "1.08%",
         "1323996.0"
        ],
        [
         "2018-02-12 00:00:00",
         "5914438.0",
         "19.79%",
         "1.11%",
         "-563211.0"
        ],
        [
         "2018-02-13 00:00:00",
         "5975411.0",
         "23.59%",
         "0.97%",
         "60973.0"
        ],
        [
         "2018-02-14 00:00:00",
         "5918666.0",
         "20.16%",
         "0.93%",
         "-56745.0"
        ],
        [
         "2018-02-15 00:00:00",
         "6468033.0",
         "23.48%",
         "0.87%",
         "549367.0"
        ],
        [
         "2018-02-16 00:00:00",
         "5431671.0",
         "23.00%",
         "0.86%",
         "-1036362.0"
        ],
        [
         "2018-02-17 00:00:00",
         "5788163.0",
         "21.08%",
         "0.89%",
         "356492.0"
        ],
        [
         "2018-02-18 00:00:00",
         "6766567.0",
         "17.84%",
         "1.01%",
         "978404.0"
        ],
        [
         "2018-02-19 00:00:00",
         "6225450.0",
         "19.65%",
         "1.01%",
         "-541117.0"
        ]
       ],
       "shape": {
        "columns": 4,
        "rows": 1765
       }
      },
      "text/html": [
       "<div>\n",
       "<style scoped>\n",
       "    .dataframe tbody tr th:only-of-type {\n",
       "        vertical-align: middle;\n",
       "    }\n",
       "\n",
       "    .dataframe tbody tr th {\n",
       "        vertical-align: top;\n",
       "    }\n",
       "\n",
       "    .dataframe thead th {\n",
       "        text-align: right;\n",
       "    }\n",
       "</style>\n",
       "<table border=\"1\" class=\"dataframe\">\n",
       "  <thead>\n",
       "    <tr style=\"text-align: right;\">\n",
       "      <th></th>\n",
       "      <th>y</th>\n",
       "      <th>discount_rate</th>\n",
       "      <th>coupon_rate</th>\n",
       "      <th>y_diff</th>\n",
       "    </tr>\n",
       "    <tr>\n",
       "      <th>date</th>\n",
       "      <th></th>\n",
       "      <th></th>\n",
       "      <th></th>\n",
       "      <th></th>\n",
       "    </tr>\n",
       "  </thead>\n",
       "  <tbody>\n",
       "    <tr>\n",
       "      <th>2018-01-01</th>\n",
       "      <td>6270839.0</td>\n",
       "      <td>34.27%</td>\n",
       "      <td>1.09%</td>\n",
       "      <td>NaN</td>\n",
       "    </tr>\n",
       "    <tr>\n",
       "      <th>2018-01-02</th>\n",
       "      <td>8922076.0</td>\n",
       "      <td>30.87%</td>\n",
       "      <td>1.08%</td>\n",
       "      <td>2651237.0</td>\n",
       "    </tr>\n",
       "    <tr>\n",
       "      <th>2018-01-03</th>\n",
       "      <td>8446101.0</td>\n",
       "      <td>28.11%</td>\n",
       "      <td>1.01%</td>\n",
       "      <td>-475975.0</td>\n",
       "    </tr>\n",
       "    <tr>\n",
       "      <th>2018-01-04</th>\n",
       "      <td>7785798.0</td>\n",
       "      <td>27.32%</td>\n",
       "      <td>0.96%</td>\n",
       "      <td>-660303.0</td>\n",
       "    </tr>\n",
       "    <tr>\n",
       "      <th>2018-01-05</th>\n",
       "      <td>6375303.0</td>\n",
       "      <td>25.70%</td>\n",
       "      <td>0.90%</td>\n",
       "      <td>-1410495.0</td>\n",
       "    </tr>\n",
       "    <tr>\n",
       "      <th>...</th>\n",
       "      <td>...</td>\n",
       "      <td>...</td>\n",
       "      <td>...</td>\n",
       "      <td>...</td>\n",
       "    </tr>\n",
       "    <tr>\n",
       "      <th>2022-10-27</th>\n",
       "      <td>13714667.0</td>\n",
       "      <td>20.81%</td>\n",
       "      <td>0.61%</td>\n",
       "      <td>-1352362.0</td>\n",
       "    </tr>\n",
       "    <tr>\n",
       "      <th>2022-10-28</th>\n",
       "      <td>12100780.0</td>\n",
       "      <td>21.44%</td>\n",
       "      <td>0.55%</td>\n",
       "      <td>-1613887.0</td>\n",
       "    </tr>\n",
       "    <tr>\n",
       "      <th>2022-10-29</th>\n",
       "      <td>11849363.0</td>\n",
       "      <td>19.81%</td>\n",
       "      <td>0.36%</td>\n",
       "      <td>-251417.0</td>\n",
       "    </tr>\n",
       "    <tr>\n",
       "      <th>2022-10-30</th>\n",
       "      <td>14561144.0</td>\n",
       "      <td>20.41%</td>\n",
       "      <td>0.34%</td>\n",
       "      <td>2711781.0</td>\n",
       "    </tr>\n",
       "    <tr>\n",
       "      <th>2022-10-31</th>\n",
       "      <td>12689026.0</td>\n",
       "      <td>19.49%</td>\n",
       "      <td>0.35%</td>\n",
       "      <td>-1872118.0</td>\n",
       "    </tr>\n",
       "  </tbody>\n",
       "</table>\n",
       "<p>1765 rows × 4 columns</p>\n",
       "</div>"
      ],
      "text/plain": [
       "                     y discount_rate coupon_rate     y_diff\n",
       "date                                                       \n",
       "2018-01-01   6270839.0        34.27%       1.09%        NaN\n",
       "2018-01-02   8922076.0        30.87%       1.08%  2651237.0\n",
       "2018-01-03   8446101.0        28.11%       1.01%  -475975.0\n",
       "2018-01-04   7785798.0        27.32%       0.96%  -660303.0\n",
       "2018-01-05   6375303.0        25.70%       0.90% -1410495.0\n",
       "...                ...           ...         ...        ...\n",
       "2022-10-27  13714667.0        20.81%       0.61% -1352362.0\n",
       "2022-10-28  12100780.0        21.44%       0.55% -1613887.0\n",
       "2022-10-29  11849363.0        19.81%       0.36%  -251417.0\n",
       "2022-10-30  14561144.0        20.41%       0.34%  2711781.0\n",
       "2022-10-31  12689026.0        19.49%       0.35% -1872118.0\n",
       "\n",
       "[1765 rows x 4 columns]"
      ]
     },
     "execution_count": 8,
     "metadata": {},
     "output_type": "execute_result"
    }
   ],
   "source": [
    "train"
   ]
  },
  {
   "cell_type": "markdown",
   "metadata": {},
   "source": [
    "# ARIMA"
   ]
  },
  {
   "cell_type": "code",
   "execution_count": 9,
   "metadata": {},
   "outputs": [],
   "source": [
    "arima_model = auto_arima(train['y'],\n",
    "                         seasonal=False)"
   ]
  },
  {
   "cell_type": "code",
   "execution_count": 10,
   "metadata": {},
   "outputs": [
    {
     "data": {
      "text/plain": [
       "2022-11-01    1.445299e+07\n",
       "2022-11-02    1.474103e+07\n",
       "2022-11-03    1.503283e+07\n",
       "2022-11-04    1.527520e+07\n",
       "2022-11-05    1.534078e+07\n",
       "2022-11-06    1.553442e+07\n",
       "2022-11-07    1.554542e+07\n",
       "2022-11-08    1.563967e+07\n",
       "2022-11-09    1.565016e+07\n",
       "2022-11-10    1.569221e+07\n",
       "2022-11-11    1.570256e+07\n",
       "2022-11-12    1.571953e+07\n",
       "2022-11-13    1.572734e+07\n",
       "2022-11-14    1.573420e+07\n",
       "2022-11-15    1.573904e+07\n",
       "2022-11-16    1.574197e+07\n",
       "2022-11-17    1.574462e+07\n",
       "2022-11-18    1.574600e+07\n",
       "2022-11-19    1.574734e+07\n",
       "2022-11-20    1.574804e+07\n",
       "2022-11-21    1.574869e+07\n",
       "2022-11-22    1.574906e+07\n",
       "2022-11-23    1.574937e+07\n",
       "2022-11-24    1.574956e+07\n",
       "2022-11-25    1.574971e+07\n",
       "2022-11-26    1.574981e+07\n",
       "2022-11-27    1.574988e+07\n",
       "2022-11-28    1.574994e+07\n",
       "2022-11-29    1.574997e+07\n",
       "2022-11-30    1.575000e+07\n",
       "Freq: D, dtype: float64"
      ]
     },
     "execution_count": 10,
     "metadata": {},
     "output_type": "execute_result"
    }
   ],
   "source": [
    "predictions_arims = arima_model.predict(n_periods=periods)\n",
    "predictions_arims"
   ]
  },
  {
   "cell_type": "code",
   "execution_count": 11,
   "metadata": {},
   "outputs": [],
   "source": [
    "def model_assessment(train,test,predictions,title=None,path=None):\n",
    "    plt.subplots(figsize=(14,6))\n",
    "    plt.plot(train,label=\"Train\")\n",
    "    plt.plot(test,label=\"Test\")\n",
    "    plt.plot(predictions,label=\"Forecast\")\n",
    "    plt.title(title)\n",
    "    plt.legend()\n",
    "    plt.savefig(f\"../visualizations/Forecast/{path}.png\")\n",
    "    plt.show()\n",
    "    \n",
    "    mae = mean_absolute_error(test,predictions)\n",
    "    mape = mean_absolute_percentage_error(test,predictions)\n",
    "    rmse = root_mean_squared_error(test,predictions)\n",
    "    \n",
    "    print(\"MAE\",mae)\n",
    "    print(\"RMSE\",rmse)\n",
    "    print(\"MAPE\",mape)"
   ]
  },
  {
   "cell_type": "code",
   "execution_count": 12,
   "metadata": {},
   "outputs": [
    {
     "data": {
      "image/png": "[encoded data removed]",
      "text/plain": [
       "<Figure size 1400x600 with 1 Axes>"
      ]
     },
     "metadata": {},
     "output_type": "display_data"
    },
    {
     "name": "stdout",
     "output_type": "stream",
     "text": [
      "MAE 7267306.024263437\n",
      "RMSE 12366038.29993861\n",
      "MAPE 0.241461145875348\n"
     ]
    }
   ],
   "source": [
    "model_assessment(train=train.y,test=test.y,predictions=predictions_arims,title=\"ARIMA\",path=\"model_arima\")"
   ]
  },
  {
   "cell_type": "code",
   "execution_count": 13,
   "metadata": {},
   "outputs": [
    {
     "data": {
      "image/png": "[encoded data removed]",
      "text/plain": [
       "<Figure size 1400x600 with 1 Axes>"
      ]
     },
     "metadata": {},
     "output_type": "display_data"
    },
    {
     "name": "stdout",
     "output_type": "stream",
     "text": [
      "MAE 7267306.024263437\n",
      "RMSE 12366038.29993861\n",
      "MAPE 0.241461145875348\n"
     ]
    }
   ],
   "source": [
    "model_assessment(train['y']['2022-09'],test['y'],predictions_arims,\"ARIMA\",\"model_arima_zoomed\")"
   ]
  },
  {
   "cell_type": "markdown",
   "metadata": {},
   "source": [
    "# SARIMA"
   ]
  },
  {
   "cell_type": "code",
   "execution_count": 14,
   "metadata": {},
   "outputs": [
    {
     "data": {
      "text/html": [
       "<table class=\"simpletable\">\n",
       "<caption>SARIMAX Results</caption>\n",
       "<tr>\n",
       "  <th>Dep. Variable:</th>                 <td>y</td>               <th>  No. Observations:  </th>    <td>1765</td>   \n",
       "</tr>\n",
       "<tr>\n",
       "  <th>Model:</th>           <td>SARIMAX(3, 1, 2)x(2, 0, 2, 7)</td> <th>  Log Likelihood     </th> <td>-28762.051</td>\n",
       "</tr>\n",
       "<tr>\n",
       "  <th>Date:</th>                  <td>Tue, 11 Mar 2025</td>        <th>  AIC                </th>  <td>57546.103</td>\n",
       "</tr>\n",
       "<tr>\n",
       "  <th>Time:</th>                      <td>09:22:50</td>            <th>  BIC                </th>  <td>57606.331</td>\n",
       "</tr>\n",
       "<tr>\n",
       "  <th>Sample:</th>                   <td>01-01-2018</td>           <th>  HQIC               </th>  <td>57568.358</td>\n",
       "</tr>\n",
       "<tr>\n",
       "  <th></th>                         <td>- 10-31-2022</td>          <th>                     </th>      <td> </td>    \n",
       "</tr>\n",
       "<tr>\n",
       "  <th>Covariance Type:</th>              <td>opg</td>              <th>                     </th>      <td> </td>    \n",
       "</tr>\n",
       "</table>\n",
       "<table class=\"simpletable\">\n",
       "<tr>\n",
       "      <td></td>         <th>coef</th>     <th>std err</th>      <th>z</th>      <th>P>|z|</th>  <th>[0.025</th>    <th>0.975]</th>  \n",
       "</tr>\n",
       "<tr>\n",
       "  <th>intercept</th> <td> 1.007e+04</td> <td> 4682.761</td> <td>    2.150</td> <td> 0.032</td> <td>  890.275</td> <td> 1.92e+04</td>\n",
       "</tr>\n",
       "<tr>\n",
       "  <th>ar.L1</th>     <td>   -0.3476</td> <td>    0.072</td> <td>   -4.797</td> <td> 0.000</td> <td>   -0.490</td> <td>   -0.206</td>\n",
       "</tr>\n",
       "<tr>\n",
       "  <th>ar.L2</th>     <td>    0.1856</td> <td>    0.032</td> <td>    5.722</td> <td> 0.000</td> <td>    0.122</td> <td>    0.249</td>\n",
       "</tr>\n",
       "<tr>\n",
       "  <th>ar.L3</th>     <td>    0.1034</td> <td>    0.016</td> <td>    6.523</td> <td> 0.000</td> <td>    0.072</td> <td>    0.135</td>\n",
       "</tr>\n",
       "<tr>\n",
       "  <th>ma.L1</th>     <td>   -0.1958</td> <td>    0.074</td> <td>   -2.656</td> <td> 0.008</td> <td>   -0.340</td> <td>   -0.051</td>\n",
       "</tr>\n",
       "<tr>\n",
       "  <th>ma.L2</th>     <td>   -0.5684</td> <td>    0.060</td> <td>   -9.400</td> <td> 0.000</td> <td>   -0.687</td> <td>   -0.450</td>\n",
       "</tr>\n",
       "<tr>\n",
       "  <th>ar.S.L7</th>   <td>    0.0805</td> <td>    0.181</td> <td>    0.445</td> <td> 0.656</td> <td>   -0.274</td> <td>    0.435</td>\n",
       "</tr>\n",
       "<tr>\n",
       "  <th>ar.S.L14</th>  <td>    0.8713</td> <td>    0.172</td> <td>    5.071</td> <td> 0.000</td> <td>    0.534</td> <td>    1.208</td>\n",
       "</tr>\n",
       "<tr>\n",
       "  <th>ma.S.L7</th>   <td>   -0.0035</td> <td>    0.176</td> <td>   -0.020</td> <td> 0.984</td> <td>   -0.349</td> <td>    0.342</td>\n",
       "</tr>\n",
       "<tr>\n",
       "  <th>ma.S.L14</th>  <td>   -0.8322</td> <td>    0.157</td> <td>   -5.310</td> <td> 0.000</td> <td>   -1.139</td> <td>   -0.525</td>\n",
       "</tr>\n",
       "<tr>\n",
       "  <th>sigma2</th>    <td> 9.294e+12</td> <td>    0.000</td> <td> 8.85e+16</td> <td> 0.000</td> <td> 9.29e+12</td> <td> 9.29e+12</td>\n",
       "</tr>\n",
       "</table>\n",
       "<table class=\"simpletable\">\n",
       "<tr>\n",
       "  <th>Ljung-Box (L1) (Q):</th>     <td>0.01</td> <th>  Jarque-Bera (JB):  </th> <td>848655.01</td>\n",
       "</tr>\n",
       "<tr>\n",
       "  <th>Prob(Q):</th>                <td>0.90</td> <th>  Prob(JB):          </th>   <td>0.00</td>   \n",
       "</tr>\n",
       "<tr>\n",
       "  <th>Heteroskedasticity (H):</th> <td>2.85</td> <th>  Skew:              </th>   <td>5.24</td>   \n",
       "</tr>\n",
       "<tr>\n",
       "  <th>Prob(H) (two-sided):</th>    <td>0.00</td> <th>  Kurtosis:          </th>  <td>109.94</td>  \n",
       "</tr>\n",
       "</table><br/><br/>Warnings:<br/>[1] Covariance matrix calculated using the outer product of gradients (complex-step).<br/>[2] Covariance matrix is singular or near-singular, with condition number 6.07e+30. Standard errors may be unstable."
      ],
      "text/latex": [
       "\\begin{center}\n",
       "\\begin{tabular}{lclc}\n",
       "\\toprule\n",
       "\\textbf{Dep. Variable:}          &               y               & \\textbf{  No. Observations:  } &    1765     \\\\\n",
       "\\textbf{Model:}                  & SARIMAX(3, 1, 2)x(2, 0, 2, 7) & \\textbf{  Log Likelihood     } & -28762.051  \\\\\n",
       "\\textbf{Date:}                   &        Tue, 11 Mar 2025       & \\textbf{  AIC                } & 57546.103   \\\\\n",
       "\\textbf{Time:}                   &            09:22:50           & \\textbf{  BIC                } & 57606.331   \\\\\n",
       "\\textbf{Sample:}                 &           01-01-2018          & \\textbf{  HQIC               } & 57568.358   \\\\\n",
       "\\textbf{}                        &          - 10-31-2022         & \\textbf{                     } &             \\\\\n",
       "\\textbf{Covariance Type:}        &              opg              & \\textbf{                     } &             \\\\\n",
       "\\bottomrule\n",
       "\\end{tabular}\n",
       "\\begin{tabular}{lcccccc}\n",
       "                   & \\textbf{coef} & \\textbf{std err} & \\textbf{z} & \\textbf{P$> |$z$|$} & \\textbf{[0.025} & \\textbf{0.975]}  \\\\\n",
       "\\midrule\n",
       "\\textbf{intercept} &    1.007e+04  &     4682.761     &     2.150  &         0.032        &      890.275    &     1.92e+04     \\\\\n",
       "\\textbf{ar.L1}     &      -0.3476  &        0.072     &    -4.797  &         0.000        &       -0.490    &       -0.206     \\\\\n",
       "\\textbf{ar.L2}     &       0.1856  &        0.032     &     5.722  &         0.000        &        0.122    &        0.249     \\\\\n",
       "\\textbf{ar.L3}     &       0.1034  &        0.016     &     6.523  &         0.000        &        0.072    &        0.135     \\\\\n",
       "\\textbf{ma.L1}     &      -0.1958  &        0.074     &    -2.656  &         0.008        &       -0.340    &       -0.051     \\\\\n",
       "\\textbf{ma.L2}     &      -0.5684  &        0.060     &    -9.400  &         0.000        &       -0.687    &       -0.450     \\\\\n",
       "\\textbf{ar.S.L7}   &       0.0805  &        0.181     &     0.445  &         0.656        &       -0.274    &        0.435     \\\\\n",
       "\\textbf{ar.S.L14}  &       0.8713  &        0.172     &     5.071  &         0.000        &        0.534    &        1.208     \\\\\n",
       "\\textbf{ma.S.L7}   &      -0.0035  &        0.176     &    -0.020  &         0.984        &       -0.349    &        0.342     \\\\\n",
       "\\textbf{ma.S.L14}  &      -0.8322  &        0.157     &    -5.310  &         0.000        &       -1.139    &       -0.525     \\\\\n",
       "\\textbf{sigma2}    &    9.294e+12  &        0.000     &  8.85e+16  &         0.000        &     9.29e+12    &     9.29e+12     \\\\\n",
       "\\bottomrule\n",
       "\\end{tabular}\n",
       "\\begin{tabular}{lclc}\n",
       "\\textbf{Ljung-Box (L1) (Q):}     & 0.01 & \\textbf{  Jarque-Bera (JB):  } & 848655.01  \\\\\n",
       "\\textbf{Prob(Q):}                & 0.90 & \\textbf{  Prob(JB):          } &    0.00    \\\\\n",
       "\\textbf{Heteroskedasticity (H):} & 2.85 & \\textbf{  Skew:              } &    5.24    \\\\\n",
       "\\textbf{Prob(H) (two-sided):}    & 0.00 & \\textbf{  Kurtosis:          } &   109.94   \\\\\n",
       "\\bottomrule\n",
       "\\end{tabular}\n",
       "%\\caption{SARIMAX Results}\n",
       "\\end{center}\n",
       "\n",
       "Warnings: \\newline\n",
       " [1] Covariance matrix calculated using the outer product of gradients (complex-step). \\newline\n",
       " [2] Covariance matrix is singular or near-singular, with condition number 6.07e+30. Standard errors may be unstable."
      ],
      "text/plain": [
       "<class 'statsmodels.iolib.summary.Summary'>\n",
       "\"\"\"\n",
       "                                     SARIMAX Results                                     \n",
       "=========================================================================================\n",
       "Dep. Variable:                                 y   No. Observations:                 1765\n",
       "Model:             SARIMAX(3, 1, 2)x(2, 0, 2, 7)   Log Likelihood              -28762.051\n",
       "Date:                           Tue, 11 Mar 2025   AIC                          57546.103\n",
       "Time:                                   09:22:50   BIC                          57606.331\n",
       "Sample:                               01-01-2018   HQIC                         57568.358\n",
       "                                    - 10-31-2022                                         \n",
       "Covariance Type:                             opg                                         \n",
       "==============================================================================\n",
       "                 coef    std err          z      P>|z|      [0.025      0.975]\n",
       "------------------------------------------------------------------------------\n",
       "intercept   1.007e+04   4682.761      2.150      0.032     890.275    1.92e+04\n",
       "ar.L1         -0.3476      0.072     -4.797      0.000      -0.490      -0.206\n",
       "ar.L2          0.1856      0.032      5.722      0.000       0.122       0.249\n",
       "ar.L3          0.1034      0.016      6.523      0.000       0.072       0.135\n",
       "ma.L1         -0.1958      0.074     -2.656      0.008      -0.340      -0.051\n",
       "ma.L2         -0.5684      0.060     -9.400      0.000      -0.687      -0.450\n",
       "ar.S.L7        0.0805      0.181      0.445      0.656      -0.274       0.435\n",
       "ar.S.L14       0.8713      0.172      5.071      0.000       0.534       1.208\n",
       "ma.S.L7       -0.0035      0.176     -0.020      0.984      -0.349       0.342\n",
       "ma.S.L14      -0.8322      0.157     -5.310      0.000      -1.139      -0.525\n",
       "sigma2      9.294e+12      0.000   8.85e+16      0.000    9.29e+12    9.29e+12\n",
       "===================================================================================\n",
       "Ljung-Box (L1) (Q):                   0.01   Jarque-Bera (JB):            848655.01\n",
       "Prob(Q):                              0.90   Prob(JB):                         0.00\n",
       "Heteroskedasticity (H):               2.85   Skew:                             5.24\n",
       "Prob(H) (two-sided):                  0.00   Kurtosis:                       109.94\n",
       "===================================================================================\n",
       "\n",
       "Warnings:\n",
       "[1] Covariance matrix calculated using the outer product of gradients (complex-step).\n",
       "[2] Covariance matrix is singular or near-singular, with condition number 6.07e+30. Standard errors may be unstable.\n",
       "\"\"\""
      ]
     },
     "execution_count": 14,
     "metadata": {},
     "output_type": "execute_result"
    }
   ],
   "source": [
    "model_sarima = auto_arima(train['y'],m = 7)\n",
    "model_sarima.summary()"
   ]
  },
  {
   "cell_type": "code",
   "execution_count": 15,
   "metadata": {},
   "outputs": [
    {
     "data": {
      "text/plain": [
       "2022-11-01    1.513411e+07\n",
       "2022-11-02    1.504534e+07\n",
       "2022-11-03    1.464457e+07\n",
       "2022-11-04    1.382187e+07\n",
       "2022-11-05    1.398001e+07\n",
       "2022-11-06    1.697855e+07\n",
       "2022-11-07    1.583308e+07\n",
       "2022-11-08    1.605211e+07\n",
       "2022-11-09    1.575797e+07\n",
       "2022-11-10    1.523585e+07\n",
       "2022-11-11    1.428027e+07\n",
       "2022-11-12    1.448986e+07\n",
       "2022-11-13    1.761291e+07\n",
       "2022-11-14    1.658423e+07\n",
       "2022-11-15    1.682759e+07\n",
       "2022-11-16    1.635487e+07\n",
       "2022-11-17    1.582120e+07\n",
       "2022-11-18    1.482105e+07\n",
       "2022-11-19    1.499263e+07\n",
       "2022-11-20    1.780770e+07\n",
       "2022-11-21    1.673572e+07\n",
       "2022-11-22    1.694582e+07\n",
       "2022-11-23    1.665825e+07\n",
       "2022-11-24    1.616896e+07\n",
       "2022-11-25    1.526419e+07\n",
       "2022-11-26    1.547008e+07\n",
       "2022-11-27    1.842691e+07\n",
       "2022-11-28    1.745385e+07\n",
       "2022-11-29    1.769225e+07\n",
       "2022-11-30    1.726673e+07\n",
       "Freq: D, dtype: float64"
      ]
     },
     "execution_count": 15,
     "metadata": {},
     "output_type": "execute_result"
    }
   ],
   "source": [
    "predictions_sarima = model_sarima.predict(n_periods=len(test))\n",
    "predictions_sarima"
   ]
  },
  {
   "cell_type": "code",
   "execution_count": 16,
   "metadata": {},
   "outputs": [
    {
     "data": {
      "image/png": "[encoded data removed]",
      "text/plain": [
       "<Figure size 1400x600 with 1 Axes>"
      ]
     },
     "metadata": {},
     "output_type": "display_data"
    },
    {
     "name": "stdout",
     "output_type": "stream",
     "text": [
      "MAE 7210543.983525436\n",
      "RMSE 12152386.469468849\n",
      "MAPE 0.24536495629219485\n"
     ]
    }
   ],
   "source": [
    "model_assessment(train['y'],test['y'],predictions_sarima,\"SARMIA\",\"model_sarima_pred\")"
   ]
  },
  {
   "cell_type": "code",
   "execution_count": 17,
   "metadata": {},
   "outputs": [
    {
     "data": {
      "image/png": "[encoded data removed]",
      "text/plain": [
       "<Figure size 1400x600 with 1 Axes>"
      ]
     },
     "metadata": {},
     "output_type": "display_data"
    },
    {
     "name": "stdout",
     "output_type": "stream",
     "text": [
      "MAE 7210543.983525436\n",
      "RMSE 12152386.469468849\n",
      "MAPE 0.24536495629219485\n"
     ]
    }
   ],
   "source": [
    "model_assessment(train['y']['2022-10'],test['y'],predictions_sarima,\"SARMIA\",\"model_sarima_pred_zoomed\")"
   ]
  },
  {
   "cell_type": "markdown",
   "metadata": {},
   "source": [
    "# SARIMAX"
   ]
  },
  {
   "cell_type": "markdown",
   "metadata": {},
   "source": [
    "### Transform regressors into float"
   ]
  },
  {
   "cell_type": "code",
   "execution_count": 18,
   "metadata": {},
   "outputs": [],
   "source": [
    "df['coupon_rate'] = df['coupon_rate'].str.replace('%','').astype(float)\n",
    "df['discount_rate'] = df['discount_rate'].str.replace('%','').astype(float)"
   ]
  },
  {
   "cell_type": "code",
   "execution_count": 19,
   "metadata": {},
   "outputs": [
    {
     "name": "stdout",
     "output_type": "stream",
     "text": [
      "<class 'pandas.core.frame.DataFrame'>\n",
      "Index: 1795 entries, 2018-01-01 to 2022-11-30\n",
      "Data columns (total 4 columns):\n",
      " #   Column         Non-Null Count  Dtype  \n",
      "---  ------         --------------  -----  \n",
      " 0   y              1795 non-null   float64\n",
      " 1   discount_rate  1795 non-null   float64\n",
      " 2   coupon_rate    1795 non-null   float64\n",
      " 3   y_diff         1794 non-null   float64\n",
      "dtypes: float64(4)\n",
      "memory usage: 70.1+ KB\n"
     ]
    }
   ],
   "source": [
    "df.info()"
   ]
  },
  {
   "cell_type": "code",
   "execution_count": 20,
   "metadata": {},
   "outputs": [
    {
     "data": {
      "application/vnd.microsoft.datawrangler.viewer.v0+json": {
       "columns": [
        {
         "name": "date",
         "rawType": "object",
         "type": "string"
        },
        {
         "name": "y",
         "rawType": "float64",
         "type": "float"
        },
        {
         "name": "discount_rate",
         "rawType": "float64",
         "type": "float"
        },
        {
         "name": "coupon_rate",
         "rawType": "float64",
         "type": "float"
        },
        {
         "name": "y_diff",
         "rawType": "float64",
         "type": "float"
        }
       ],
       "conversionMethod": "pd.DataFrame",
       "ref": "716b16ec-a7d6-4532-9c09-3ca568c5b70c",
       "rows": [
        [
         "2018-01-01",
         "6270839.0",
         "34.27",
         "1.09",
         null
        ],
        [
         "2018-01-02",
         "8922076.0",
         "30.87",
         "1.08",
         "2651237.0"
        ],
        [
         "2018-01-03",
         "8446101.0",
         "28.11",
         "1.01",
         "-475975.0"
        ],
        [
         "2018-01-04",
         "7785798.0",
         "27.32",
         "0.96",
         "-660303.0"
        ],
        [
         "2018-01-05",
         "6375303.0",
         "25.7",
         "0.9",
         "-1410495.0"
        ]
       ],
       "shape": {
        "columns": 4,
        "rows": 5
       }
      },
      "text/html": [
       "<div>\n",
       "<style scoped>\n",
       "    .dataframe tbody tr th:only-of-type {\n",
       "        vertical-align: middle;\n",
       "    }\n",
       "\n",
       "    .dataframe tbody tr th {\n",
       "        vertical-align: top;\n",
       "    }\n",
       "\n",
       "    .dataframe thead th {\n",
       "        text-align: right;\n",
       "    }\n",
       "</style>\n",
       "<table border=\"1\" class=\"dataframe\">\n",
       "  <thead>\n",
       "    <tr style=\"text-align: right;\">\n",
       "      <th></th>\n",
       "      <th>y</th>\n",
       "      <th>discount_rate</th>\n",
       "      <th>coupon_rate</th>\n",
       "      <th>y_diff</th>\n",
       "    </tr>\n",
       "    <tr>\n",
       "      <th>date</th>\n",
       "      <th></th>\n",
       "      <th></th>\n",
       "      <th></th>\n",
       "      <th></th>\n",
       "    </tr>\n",
       "  </thead>\n",
       "  <tbody>\n",
       "    <tr>\n",
       "      <th>2018-01-01</th>\n",
       "      <td>6270839.0</td>\n",
       "      <td>34.27</td>\n",
       "      <td>1.09</td>\n",
       "      <td>NaN</td>\n",
       "    </tr>\n",
       "    <tr>\n",
       "      <th>2018-01-02</th>\n",
       "      <td>8922076.0</td>\n",
       "      <td>30.87</td>\n",
       "      <td>1.08</td>\n",
       "      <td>2651237.0</td>\n",
       "    </tr>\n",
       "    <tr>\n",
       "      <th>2018-01-03</th>\n",
       "      <td>8446101.0</td>\n",
       "      <td>28.11</td>\n",
       "      <td>1.01</td>\n",
       "      <td>-475975.0</td>\n",
       "    </tr>\n",
       "    <tr>\n",
       "      <th>2018-01-04</th>\n",
       "      <td>7785798.0</td>\n",
       "      <td>27.32</td>\n",
       "      <td>0.96</td>\n",
       "      <td>-660303.0</td>\n",
       "    </tr>\n",
       "    <tr>\n",
       "      <th>2018-01-05</th>\n",
       "      <td>6375303.0</td>\n",
       "      <td>25.70</td>\n",
       "      <td>0.90</td>\n",
       "      <td>-1410495.0</td>\n",
       "    </tr>\n",
       "  </tbody>\n",
       "</table>\n",
       "</div>"
      ],
      "text/plain": [
       "                    y  discount_rate  coupon_rate     y_diff\n",
       "date                                                        \n",
       "2018-01-01  6270839.0          34.27         1.09        NaN\n",
       "2018-01-02  8922076.0          30.87         1.08  2651237.0\n",
       "2018-01-03  8446101.0          28.11         1.01  -475975.0\n",
       "2018-01-04  7785798.0          27.32         0.96  -660303.0\n",
       "2018-01-05  6375303.0          25.70         0.90 -1410495.0"
      ]
     },
     "execution_count": 20,
     "metadata": {},
     "output_type": "execute_result"
    }
   ],
   "source": [
    "df.head()"
   ]
  },
  {
   "cell_type": "code",
   "execution_count": 21,
   "metadata": {},
   "outputs": [],
   "source": [
    "periods = 30\n",
    "exog_train = df.iloc[:-periods,1:3]\n",
    "exog_test = df.iloc[-periods:,1:3]"
   ]
  },
  {
   "cell_type": "code",
   "execution_count": 22,
   "metadata": {},
   "outputs": [
    {
     "data": {
      "application/vnd.microsoft.datawrangler.viewer.v0+json": {
       "columns": [
        {
         "name": "date",
         "rawType": "object",
         "type": "string"
        },
        {
         "name": "discount_rate",
         "rawType": "float64",
         "type": "float"
        },
        {
         "name": "coupon_rate",
         "rawType": "float64",
         "type": "float"
        }
       ],
       "conversionMethod": "pd.DataFrame",
       "ref": "d198a83b-0a9a-4acf-bfe5-0bf793dafab3",
       "rows": [
        [
         "2018-01-01",
         "34.27",
         "1.09"
        ],
        [
         "2018-01-02",
         "30.87",
         "1.08"
        ],
        [
         "2018-01-03",
         "28.11",
         "1.01"
        ],
        [
         "2018-01-04",
         "27.32",
         "0.96"
        ],
        [
         "2018-01-05",
         "25.7",
         "0.9"
        ]
       ],
       "shape": {
        "columns": 2,
        "rows": 5
       }
      },
      "text/html": [
       "<div>\n",
       "<style scoped>\n",
       "    .dataframe tbody tr th:only-of-type {\n",
       "        vertical-align: middle;\n",
       "    }\n",
       "\n",
       "    .dataframe tbody tr th {\n",
       "        vertical-align: top;\n",
       "    }\n",
       "\n",
       "    .dataframe thead th {\n",
       "        text-align: right;\n",
       "    }\n",
       "</style>\n",
       "<table border=\"1\" class=\"dataframe\">\n",
       "  <thead>\n",
       "    <tr style=\"text-align: right;\">\n",
       "      <th></th>\n",
       "      <th>discount_rate</th>\n",
       "      <th>coupon_rate</th>\n",
       "    </tr>\n",
       "    <tr>\n",
       "      <th>date</th>\n",
       "      <th></th>\n",
       "      <th></th>\n",
       "    </tr>\n",
       "  </thead>\n",
       "  <tbody>\n",
       "    <tr>\n",
       "      <th>2018-01-01</th>\n",
       "      <td>34.27</td>\n",
       "      <td>1.09</td>\n",
       "    </tr>\n",
       "    <tr>\n",
       "      <th>2018-01-02</th>\n",
       "      <td>30.87</td>\n",
       "      <td>1.08</td>\n",
       "    </tr>\n",
       "    <tr>\n",
       "      <th>2018-01-03</th>\n",
       "      <td>28.11</td>\n",
       "      <td>1.01</td>\n",
       "    </tr>\n",
       "    <tr>\n",
       "      <th>2018-01-04</th>\n",
       "      <td>27.32</td>\n",
       "      <td>0.96</td>\n",
       "    </tr>\n",
       "    <tr>\n",
       "      <th>2018-01-05</th>\n",
       "      <td>25.70</td>\n",
       "      <td>0.90</td>\n",
       "    </tr>\n",
       "  </tbody>\n",
       "</table>\n",
       "</div>"
      ],
      "text/plain": [
       "            discount_rate  coupon_rate\n",
       "date                                  \n",
       "2018-01-01          34.27         1.09\n",
       "2018-01-02          30.87         1.08\n",
       "2018-01-03          28.11         1.01\n",
       "2018-01-04          27.32         0.96\n",
       "2018-01-05          25.70         0.90"
      ]
     },
     "execution_count": 22,
     "metadata": {},
     "output_type": "execute_result"
    }
   ],
   "source": [
    "exog_train.head()"
   ]
  },
  {
   "cell_type": "code",
   "execution_count": 23,
   "metadata": {},
   "outputs": [
    {
     "data": {
      "application/vnd.microsoft.datawrangler.viewer.v0+json": {
       "columns": [
        {
         "name": "date",
         "rawType": "datetime64[ns]",
         "type": "datetime"
        },
        {
         "name": "y",
         "rawType": "float64",
         "type": "float"
        },
        {
         "name": "discount_rate",
         "rawType": "object",
         "type": "string"
        },
        {
         "name": "coupon_rate",
         "rawType": "object",
         "type": "string"
        },
        {
         "name": "y_diff",
         "rawType": "float64",
         "type": "float"
        }
       ],
       "conversionMethod": "pd.DataFrame",
       "ref": "a4d4498c-4599-4a92-8020-29055c042598",
       "rows": [
        [
         "2018-01-01 00:00:00",
         "6270839.0",
         "34.27%",
         "1.09%",
         null
        ],
        [
         "2018-01-02 00:00:00",
         "8922076.0",
         "30.87%",
         "1.08%",
         "2651237.0"
        ],
        [
         "2018-01-03 00:00:00",
         "8446101.0",
         "28.11%",
         "1.01%",
         "-475975.0"
        ],
        [
         "2018-01-04 00:00:00",
         "7785798.0",
         "27.32%",
         "0.96%",
         "-660303.0"
        ],
        [
         "2018-01-05 00:00:00",
         "6375303.0",
         "25.70%",
         "0.90%",
         "-1410495.0"
        ]
       ],
       "shape": {
        "columns": 4,
        "rows": 5
       }
      },
      "text/html": [
       "<div>\n",
       "<style scoped>\n",
       "    .dataframe tbody tr th:only-of-type {\n",
       "        vertical-align: middle;\n",
       "    }\n",
       "\n",
       "    .dataframe tbody tr th {\n",
       "        vertical-align: top;\n",
       "    }\n",
       "\n",
       "    .dataframe thead th {\n",
       "        text-align: right;\n",
       "    }\n",
       "</style>\n",
       "<table border=\"1\" class=\"dataframe\">\n",
       "  <thead>\n",
       "    <tr style=\"text-align: right;\">\n",
       "      <th></th>\n",
       "      <th>y</th>\n",
       "      <th>discount_rate</th>\n",
       "      <th>coupon_rate</th>\n",
       "      <th>y_diff</th>\n",
       "    </tr>\n",
       "    <tr>\n",
       "      <th>date</th>\n",
       "      <th></th>\n",
       "      <th></th>\n",
       "      <th></th>\n",
       "      <th></th>\n",
       "    </tr>\n",
       "  </thead>\n",
       "  <tbody>\n",
       "    <tr>\n",
       "      <th>2018-01-01</th>\n",
       "      <td>6270839.0</td>\n",
       "      <td>34.27%</td>\n",
       "      <td>1.09%</td>\n",
       "      <td>NaN</td>\n",
       "    </tr>\n",
       "    <tr>\n",
       "      <th>2018-01-02</th>\n",
       "      <td>8922076.0</td>\n",
       "      <td>30.87%</td>\n",
       "      <td>1.08%</td>\n",
       "      <td>2651237.0</td>\n",
       "    </tr>\n",
       "    <tr>\n",
       "      <th>2018-01-03</th>\n",
       "      <td>8446101.0</td>\n",
       "      <td>28.11%</td>\n",
       "      <td>1.01%</td>\n",
       "      <td>-475975.0</td>\n",
       "    </tr>\n",
       "    <tr>\n",
       "      <th>2018-01-04</th>\n",
       "      <td>7785798.0</td>\n",
       "      <td>27.32%</td>\n",
       "      <td>0.96%</td>\n",
       "      <td>-660303.0</td>\n",
       "    </tr>\n",
       "    <tr>\n",
       "      <th>2018-01-05</th>\n",
       "      <td>6375303.0</td>\n",
       "      <td>25.70%</td>\n",
       "      <td>0.90%</td>\n",
       "      <td>-1410495.0</td>\n",
       "    </tr>\n",
       "  </tbody>\n",
       "</table>\n",
       "</div>"
      ],
      "text/plain": [
       "                    y discount_rate coupon_rate     y_diff\n",
       "date                                                      \n",
       "2018-01-01  6270839.0        34.27%       1.09%        NaN\n",
       "2018-01-02  8922076.0        30.87%       1.08%  2651237.0\n",
       "2018-01-03  8446101.0        28.11%       1.01%  -475975.0\n",
       "2018-01-04  7785798.0        27.32%       0.96%  -660303.0\n",
       "2018-01-05  6375303.0        25.70%       0.90% -1410495.0"
      ]
     },
     "execution_count": 23,
     "metadata": {},
     "output_type": "execute_result"
    }
   ],
   "source": [
    "train.head()"
   ]
  },
  {
   "cell_type": "code",
   "execution_count": 24,
   "metadata": {},
   "outputs": [],
   "source": [
    "exog_train.index = pd.to_datetime(train.index)\n",
    "exog_test.index = pd.to_datetime(test.index)"
   ]
  },
  {
   "cell_type": "code",
   "execution_count": 25,
   "metadata": {},
   "outputs": [
    {
     "data": {
      "text/plain": [
       "DatetimeIndex(['2022-11-01', '2022-11-02', '2022-11-03', '2022-11-04',\n",
       "               '2022-11-05', '2022-11-06', '2022-11-07', '2022-11-08',\n",
       "               '2022-11-09', '2022-11-10', '2022-11-11', '2022-11-12',\n",
       "               '2022-11-13', '2022-11-14', '2022-11-15', '2022-11-16',\n",
       "               '2022-11-17', '2022-11-18', '2022-11-19', '2022-11-20',\n",
       "               '2022-11-21', '2022-11-22', '2022-11-23', '2022-11-24',\n",
       "               '2022-11-25', '2022-11-26', '2022-11-27', '2022-11-28',\n",
       "               '2022-11-29', '2022-11-30'],\n",
       "              dtype='datetime64[ns]', name='date', freq=None)"
      ]
     },
     "execution_count": 25,
     "metadata": {},
     "output_type": "execute_result"
    }
   ],
   "source": [
    "exog_test.index"
   ]
  },
  {
   "cell_type": "code",
   "execution_count": 26,
   "metadata": {},
   "outputs": [],
   "source": [
    "model_sarimax = auto_arima(train['y'],m=7,X=exog_train)"
   ]
  },
  {
   "cell_type": "code",
   "execution_count": 27,
   "metadata": {},
   "outputs": [
    {
     "data": {
      "text/html": [
       "<table class=\"simpletable\">\n",
       "<caption>SARIMAX Results</caption>\n",
       "<tr>\n",
       "  <th>Dep. Variable:</th>                 <td>y</td>               <th>  No. Observations:  </th>    <td>1765</td>   \n",
       "</tr>\n",
       "<tr>\n",
       "  <th>Model:</th>           <td>SARIMAX(2, 1, 2)x(2, 0, 2, 7)</td> <th>  Log Likelihood     </th> <td>-28613.022</td>\n",
       "</tr>\n",
       "<tr>\n",
       "  <th>Date:</th>                  <td>Tue, 11 Mar 2025</td>        <th>  AIC                </th>  <td>57250.045</td>\n",
       "</tr>\n",
       "<tr>\n",
       "  <th>Time:</th>                      <td>09:24:28</td>            <th>  BIC                </th>  <td>57315.749</td>\n",
       "</tr>\n",
       "<tr>\n",
       "  <th>Sample:</th>                   <td>01-01-2018</td>           <th>  HQIC               </th>  <td>57274.324</td>\n",
       "</tr>\n",
       "<tr>\n",
       "  <th></th>                         <td>- 10-31-2022</td>          <th>                     </th>      <td> </td>    \n",
       "</tr>\n",
       "<tr>\n",
       "  <th>Covariance Type:</th>              <td>opg</td>              <th>                     </th>      <td> </td>    \n",
       "</tr>\n",
       "</table>\n",
       "<table class=\"simpletable\">\n",
       "<tr>\n",
       "        <td></td>           <th>coef</th>     <th>std err</th>      <th>z</th>      <th>P>|z|</th>  <th>[0.025</th>    <th>0.975]</th>  \n",
       "</tr>\n",
       "<tr>\n",
       "  <th>intercept</th>     <td> 1.641e+04</td> <td> 7881.863</td> <td>    2.082</td> <td> 0.037</td> <td>  962.552</td> <td> 3.19e+04</td>\n",
       "</tr>\n",
       "<tr>\n",
       "  <th>discount_rate</th> <td>  4.03e+05</td> <td> 2.35e+04</td> <td>   17.135</td> <td> 0.000</td> <td> 3.57e+05</td> <td> 4.49e+05</td>\n",
       "</tr>\n",
       "<tr>\n",
       "  <th>coupon_rate</th>   <td> 9.229e+05</td> <td>  6.1e+04</td> <td>   15.120</td> <td> 0.000</td> <td> 8.03e+05</td> <td> 1.04e+06</td>\n",
       "</tr>\n",
       "<tr>\n",
       "  <th>ar.L1</th>         <td>   -0.6526</td> <td>    0.156</td> <td>   -4.194</td> <td> 0.000</td> <td>   -0.958</td> <td>   -0.348</td>\n",
       "</tr>\n",
       "<tr>\n",
       "  <th>ar.L2</th>         <td>    0.1828</td> <td>    0.049</td> <td>    3.765</td> <td> 0.000</td> <td>    0.088</td> <td>    0.278</td>\n",
       "</tr>\n",
       "<tr>\n",
       "  <th>ma.L1</th>         <td>    0.1067</td> <td>    0.155</td> <td>    0.689</td> <td> 0.491</td> <td>   -0.197</td> <td>    0.410</td>\n",
       "</tr>\n",
       "<tr>\n",
       "  <th>ma.L2</th>         <td>   -0.6923</td> <td>    0.124</td> <td>   -5.563</td> <td> 0.000</td> <td>   -0.936</td> <td>   -0.448</td>\n",
       "</tr>\n",
       "<tr>\n",
       "  <th>ar.S.L7</th>       <td>    0.0524</td> <td>    0.187</td> <td>    0.280</td> <td> 0.779</td> <td>   -0.314</td> <td>    0.419</td>\n",
       "</tr>\n",
       "<tr>\n",
       "  <th>ar.S.L14</th>      <td>    0.8998</td> <td>    0.178</td> <td>    5.063</td> <td> 0.000</td> <td>    0.552</td> <td>    1.248</td>\n",
       "</tr>\n",
       "<tr>\n",
       "  <th>ma.S.L7</th>       <td>    0.0181</td> <td>    0.183</td> <td>    0.099</td> <td> 0.921</td> <td>   -0.340</td> <td>    0.376</td>\n",
       "</tr>\n",
       "<tr>\n",
       "  <th>ma.S.L14</th>      <td>   -0.8500</td> <td>    0.161</td> <td>   -5.288</td> <td> 0.000</td> <td>   -1.165</td> <td>   -0.535</td>\n",
       "</tr>\n",
       "<tr>\n",
       "  <th>sigma2</th>        <td> 7.655e+12</td> <td>    0.016</td> <td> 4.76e+14</td> <td> 0.000</td> <td> 7.65e+12</td> <td> 7.65e+12</td>\n",
       "</tr>\n",
       "</table>\n",
       "<table class=\"simpletable\">\n",
       "<tr>\n",
       "  <th>Ljung-Box (L1) (Q):</th>     <td>0.02</td> <th>  Jarque-Bera (JB):  </th> <td>1075206.29</td>\n",
       "</tr>\n",
       "<tr>\n",
       "  <th>Prob(Q):</th>                <td>0.88</td> <th>  Prob(JB):          </th>    <td>0.00</td>   \n",
       "</tr>\n",
       "<tr>\n",
       "  <th>Heteroskedasticity (H):</th> <td>2.05</td> <th>  Skew:              </th>    <td>5.53</td>   \n",
       "</tr>\n",
       "<tr>\n",
       "  <th>Prob(H) (two-sided):</th>    <td>0.00</td> <th>  Kurtosis:          </th>   <td>123.44</td>  \n",
       "</tr>\n",
       "</table><br/><br/>Warnings:<br/>[1] Covariance matrix calculated using the outer product of gradients (complex-step).<br/>[2] Covariance matrix is singular or near-singular, with condition number 7.52e+28. Standard errors may be unstable."
      ],
      "text/latex": [
       "\\begin{center}\n",
       "\\begin{tabular}{lclc}\n",
       "\\toprule\n",
       "\\textbf{Dep. Variable:}          &               y               & \\textbf{  No. Observations:  } &    1765     \\\\\n",
       "\\textbf{Model:}                  & SARIMAX(2, 1, 2)x(2, 0, 2, 7) & \\textbf{  Log Likelihood     } & -28613.022  \\\\\n",
       "\\textbf{Date:}                   &        Tue, 11 Mar 2025       & \\textbf{  AIC                } & 57250.045   \\\\\n",
       "\\textbf{Time:}                   &            09:24:28           & \\textbf{  BIC                } & 57315.749   \\\\\n",
       "\\textbf{Sample:}                 &           01-01-2018          & \\textbf{  HQIC               } & 57274.324   \\\\\n",
       "\\textbf{}                        &          - 10-31-2022         & \\textbf{                     } &             \\\\\n",
       "\\textbf{Covariance Type:}        &              opg              & \\textbf{                     } &             \\\\\n",
       "\\bottomrule\n",
       "\\end{tabular}\n",
       "\\begin{tabular}{lcccccc}\n",
       "                        & \\textbf{coef} & \\textbf{std err} & \\textbf{z} & \\textbf{P$> |$z$|$} & \\textbf{[0.025} & \\textbf{0.975]}  \\\\\n",
       "\\midrule\n",
       "\\textbf{intercept}      &    1.641e+04  &     7881.863     &     2.082  &         0.037        &      962.552    &     3.19e+04     \\\\\n",
       "\\textbf{discount\\_rate} &     4.03e+05  &     2.35e+04     &    17.135  &         0.000        &     3.57e+05    &     4.49e+05     \\\\\n",
       "\\textbf{coupon\\_rate}   &    9.229e+05  &      6.1e+04     &    15.120  &         0.000        &     8.03e+05    &     1.04e+06     \\\\\n",
       "\\textbf{ar.L1}          &      -0.6526  &        0.156     &    -4.194  &         0.000        &       -0.958    &       -0.348     \\\\\n",
       "\\textbf{ar.L2}          &       0.1828  &        0.049     &     3.765  &         0.000        &        0.088    &        0.278     \\\\\n",
       "\\textbf{ma.L1}          &       0.1067  &        0.155     &     0.689  &         0.491        &       -0.197    &        0.410     \\\\\n",
       "\\textbf{ma.L2}          &      -0.6923  &        0.124     &    -5.563  &         0.000        &       -0.936    &       -0.448     \\\\\n",
       "\\textbf{ar.S.L7}        &       0.0524  &        0.187     &     0.280  &         0.779        &       -0.314    &        0.419     \\\\\n",
       "\\textbf{ar.S.L14}       &       0.8998  &        0.178     &     5.063  &         0.000        &        0.552    &        1.248     \\\\\n",
       "\\textbf{ma.S.L7}        &       0.0181  &        0.183     &     0.099  &         0.921        &       -0.340    &        0.376     \\\\\n",
       "\\textbf{ma.S.L14}       &      -0.8500  &        0.161     &    -5.288  &         0.000        &       -1.165    &       -0.535     \\\\\n",
       "\\textbf{sigma2}         &    7.655e+12  &        0.016     &  4.76e+14  &         0.000        &     7.65e+12    &     7.65e+12     \\\\\n",
       "\\bottomrule\n",
       "\\end{tabular}\n",
       "\\begin{tabular}{lclc}\n",
       "\\textbf{Ljung-Box (L1) (Q):}     & 0.02 & \\textbf{  Jarque-Bera (JB):  } & 1075206.29  \\\\\n",
       "\\textbf{Prob(Q):}                & 0.88 & \\textbf{  Prob(JB):          } &    0.00     \\\\\n",
       "\\textbf{Heteroskedasticity (H):} & 2.05 & \\textbf{  Skew:              } &    5.53     \\\\\n",
       "\\textbf{Prob(H) (two-sided):}    & 0.00 & \\textbf{  Kurtosis:          } &   123.44    \\\\\n",
       "\\bottomrule\n",
       "\\end{tabular}\n",
       "%\\caption{SARIMAX Results}\n",
       "\\end{center}\n",
       "\n",
       "Warnings: \\newline\n",
       " [1] Covariance matrix calculated using the outer product of gradients (complex-step). \\newline\n",
       " [2] Covariance matrix is singular or near-singular, with condition number 7.52e+28. Standard errors may be unstable."
      ],
      "text/plain": [
       "<class 'statsmodels.iolib.summary.Summary'>\n",
       "\"\"\"\n",
       "                                     SARIMAX Results                                     \n",
       "=========================================================================================\n",
       "Dep. Variable:                                 y   No. Observations:                 1765\n",
       "Model:             SARIMAX(2, 1, 2)x(2, 0, 2, 7)   Log Likelihood              -28613.022\n",
       "Date:                           Tue, 11 Mar 2025   AIC                          57250.045\n",
       "Time:                                   09:24:28   BIC                          57315.749\n",
       "Sample:                               01-01-2018   HQIC                         57274.324\n",
       "                                    - 10-31-2022                                         \n",
       "Covariance Type:                             opg                                         \n",
       "=================================================================================\n",
       "                    coef    std err          z      P>|z|      [0.025      0.975]\n",
       "---------------------------------------------------------------------------------\n",
       "intercept      1.641e+04   7881.863      2.082      0.037     962.552    3.19e+04\n",
       "discount_rate   4.03e+05   2.35e+04     17.135      0.000    3.57e+05    4.49e+05\n",
       "coupon_rate    9.229e+05    6.1e+04     15.120      0.000    8.03e+05    1.04e+06\n",
       "ar.L1            -0.6526      0.156     -4.194      0.000      -0.958      -0.348\n",
       "ar.L2             0.1828      0.049      3.765      0.000       0.088       0.278\n",
       "ma.L1             0.1067      0.155      0.689      0.491      -0.197       0.410\n",
       "ma.L2            -0.6923      0.124     -5.563      0.000      -0.936      -0.448\n",
       "ar.S.L7           0.0524      0.187      0.280      0.779      -0.314       0.419\n",
       "ar.S.L14          0.8998      0.178      5.063      0.000       0.552       1.248\n",
       "ma.S.L7           0.0181      0.183      0.099      0.921      -0.340       0.376\n",
       "ma.S.L14         -0.8500      0.161     -5.288      0.000      -1.165      -0.535\n",
       "sigma2         7.655e+12      0.016   4.76e+14      0.000    7.65e+12    7.65e+12\n",
       "===================================================================================\n",
       "Ljung-Box (L1) (Q):                   0.02   Jarque-Bera (JB):           1075206.29\n",
       "Prob(Q):                              0.88   Prob(JB):                         0.00\n",
       "Heteroskedasticity (H):               2.05   Skew:                             5.53\n",
       "Prob(H) (two-sided):                  0.00   Kurtosis:                       123.44\n",
       "===================================================================================\n",
       "\n",
       "Warnings:\n",
       "[1] Covariance matrix calculated using the outer product of gradients (complex-step).\n",
       "[2] Covariance matrix is singular or near-singular, with condition number 7.52e+28. Standard errors may be unstable.\n",
       "\"\"\""
      ]
     },
     "execution_count": 27,
     "metadata": {},
     "output_type": "execute_result"
    }
   ],
   "source": [
    "model_sarimax.summary()"
   ]
  },
  {
   "cell_type": "code",
   "execution_count": 28,
   "metadata": {},
   "outputs": [
    {
     "data": {
      "text/plain": [
       "2022-11-01    1.675219e+07\n",
       "2022-11-02    1.494566e+07\n",
       "2022-11-03    1.488437e+07\n",
       "2022-11-04    1.296426e+07\n",
       "2022-11-05    1.205474e+07\n",
       "2022-11-06    1.394981e+07\n",
       "2022-11-07    1.341731e+07\n",
       "2022-11-08    1.328259e+07\n",
       "2022-11-09    1.441189e+07\n",
       "2022-11-10    2.077603e+07\n",
       "2022-11-11    2.121871e+07\n",
       "2022-11-12    1.346342e+07\n",
       "2022-11-13    1.489144e+07\n",
       "2022-11-14    1.299958e+07\n",
       "2022-11-15    1.348112e+07\n",
       "2022-11-16    1.398075e+07\n",
       "2022-11-17    1.803934e+07\n",
       "2022-11-18    1.675141e+07\n",
       "2022-11-19    1.712348e+07\n",
       "2022-11-20    1.980816e+07\n",
       "2022-11-21    1.847933e+07\n",
       "2022-11-22    1.908260e+07\n",
       "2022-11-23    1.913665e+07\n",
       "2022-11-24    2.068950e+07\n",
       "2022-11-25    1.926337e+07\n",
       "2022-11-26    1.851313e+07\n",
       "2022-11-27    2.073292e+07\n",
       "2022-11-28    2.608038e+07\n",
       "2022-11-29    1.588331e+07\n",
       "2022-11-30    1.480002e+07\n",
       "Freq: D, dtype: float64"
      ]
     },
     "execution_count": 28,
     "metadata": {},
     "output_type": "execute_result"
    }
   ],
   "source": [
    "predictions_sarimax = model_sarimax.predict(n_periods = len(test),X = exog_test)\n",
    "predictions_sarimax"
   ]
  },
  {
   "cell_type": "code",
   "execution_count": 29,
   "metadata": {},
   "outputs": [
    {
     "data": {
      "image/png": "[encoded data removed]",
      "text/plain": [
       "<Figure size 1400x600 with 1 Axes>"
      ]
     },
     "metadata": {},
     "output_type": "display_data"
    },
    {
     "name": "stdout",
     "output_type": "stream",
     "text": [
      "MAE 5716327.042129176\n",
      "RMSE 10394396.812419357\n",
      "MAPE 0.19359098435175184\n"
     ]
    }
   ],
   "source": [
    "model_assessment(train['y'],test['y'],predictions_sarimax,\"SARIMAX\",\"model_pred_sarimax\")"
   ]
  },
  {
   "cell_type": "code",
   "execution_count": 30,
   "metadata": {},
   "outputs": [
    {
     "data": {
      "image/png": "[encoded data removed]",
      "text/plain": [
       "<Figure size 1400x600 with 1 Axes>"
      ]
     },
     "metadata": {},
     "output_type": "display_data"
    },
    {
     "name": "stdout",
     "output_type": "stream",
     "text": [
      "MAE 5716327.042129176\n",
      "RMSE 10394396.812419357\n",
      "MAPE 0.19359098435175184\n"
     ]
    }
   ],
   "source": [
    "model_assessment(train['y']['2022-10'],test['y'],predictions_sarimax,\"SARIMAX\",\"model_pred_sarimax_zoomed\")"
   ]
  },
  {
   "cell_type": "markdown",
   "metadata": {},
   "source": [
    "### Cross Validation"
   ]
  },
  {
   "cell_type": "code",
   "execution_count": 45,
   "metadata": {},
   "outputs": [],
   "source": [
    "model_cv = ARIMA(order=(2, 1, 2),seasonal_order=(2, 0, 2, 7))"
   ]
  },
  {
   "cell_type": "markdown",
   "metadata": {},
   "source": [
    "## Set the CV rules\n",
    "- h = 30: The forecast horizon (how far ahead you predict).\n",
    "- step = 15: The step size (how much the training window moves forward each iteration).\n",
    "- initial = df.shape[0] - 180: The size of the initial training window."
   ]
  },
  {
   "cell_type": "code",
   "execution_count": 46,
   "metadata": {},
   "outputs": [],
   "source": [
    "cv = model_selection.RollingForecastCV(h = 30,step = 15, initial = df.shape[0] - 180)"
   ]
  },
  {
   "cell_type": "markdown",
   "metadata": {},
   "source": [
    "### Inputs for the CV"
   ]
  },
  {
   "cell_type": "code",
   "execution_count": 47,
   "metadata": {},
   "outputs": [],
   "source": [
    "cv_score = model_selection.cross_val_score(model_cv,\n",
    "                                           y=train['y'],\n",
    "                                           X=exog_train,scoring=\"mean_squared_error\",\n",
    "                                           cv = cv, \n",
    "                                           verbose = 1, \n",
    "                                           error_score= 100000000000000000000000000000)"
   ]
  },
  {
   "cell_type": "markdown",
   "metadata": {},
   "source": [
    "### CV Performance"
   ]
  },
  {
   "cell_type": "code",
   "execution_count": 48,
   "metadata": {},
   "outputs": [
    {
     "data": {
      "text/plain": [
       "array([1.15280353e+13, 1.38382379e+13, 1.19906796e+13, 1.23867357e+12,\n",
       "       8.51096288e+11, 7.03696133e+12, 1.22151045e+13, 5.90273067e+12,\n",
       "       2.97141481e+13])"
      ]
     },
     "execution_count": 48,
     "metadata": {},
     "output_type": "execute_result"
    }
   ],
   "source": [
    "cv_score"
   ]
  },
  {
   "cell_type": "code",
   "execution_count": 49,
   "metadata": {},
   "outputs": [
    {
     "name": "stdout",
     "output_type": "stream",
     "text": [
      "RMSE is 3237208\n"
     ]
    }
   ],
   "source": [
    "rmse = np.sqrt(np.average(cv_score))\n",
    "print(f\"RMSE is {int(rmse)}\")"
   ]
  },
  {
   "cell_type": "markdown",
   "metadata": {},
   "source": [
    "## Parameter Tuning"
   ]
  },
  {
   "cell_type": "code",
   "execution_count": 50,
   "metadata": {},
   "outputs": [
    {
     "data": {
      "text/plain": [
       "72"
      ]
     },
     "execution_count": 50,
     "metadata": {},
     "output_type": "execute_result"
    }
   ],
   "source": [
    "param_grid = {'p':[1,2,3],\n",
    "              'd':[0,1],\n",
    "              'q':[1,2,3],\n",
    "              'P':[1,2],\n",
    "              'D':[0],\n",
    "              'Q':[1,2]}\n",
    "grid = ParameterGrid(param_grid=param_grid)\n",
    "len(list(grid))"
   ]
  },
  {
   "cell_type": "markdown",
   "metadata": {},
   "source": [
    "## Parameter Loop"
   ]
  },
  {
   "cell_type": "code",
   "execution_count": 59,
   "metadata": {},
   "outputs": [],
   "source": [
    "rmse_list = []\n",
    "for params in grid:\n",
    "    model = ARIMA(order=(params['p'], params['d'], params['q']),\n",
    "                seasonal_order=(params['P'], params['D'], params['Q'], 7))\n",
    "    cv_score = model_selection.cross_val_score(model_cv,\n",
    "                                           y=df['y'],\n",
    "                                           X=df.iloc[:,1:3],scoring=\"mean_squared_error\",\n",
    "                                           cv = cv, \n",
    "                                           verbose = 1, \n",
    "                                           error_score= 10000000000000000000000000)\n",
    "    rmse = np.sqrt(np.average(cv_score))\n",
    "    rmse_list.append(rmse)"
   ]
  },
  {
   "cell_type": "code",
   "execution_count": 60,
   "metadata": {},
   "outputs": [
    {
     "data": {
      "text/plain": [
       "[4405828.457952617,\n",
       " 4405828.457952617,\n",
       " 4405828.457952617,\n",
       " 4405828.457952617,\n",
       " 4405828.457952617,\n",
       " 4405828.457952617,\n",
       " 4405828.457952617,\n",
       " 4405828.457952617,\n",
       " 4405828.457952617,\n",
       " 4405828.457952617,\n",
       " 4405828.457952617,\n",
       " 4405828.457952617,\n",
       " 4405828.457952617,\n",
       " 4405828.457952617,\n",
       " 4405828.457952617,\n",
       " 4405828.457952617,\n",
       " 4405828.457952617,\n",
       " 4405828.457952617,\n",
       " 4405828.457952617,\n",
       " 4405828.457952617,\n",
       " 4405828.457952617,\n",
       " 4405828.457952617,\n",
       " 4405828.457952617,\n",
       " 4405828.457952617,\n",
       " 4405828.457952617,\n",
       " 4405828.457952617,\n",
       " 4405828.457952617,\n",
       " 4405828.457952617,\n",
       " 4405828.457952617,\n",
       " 4405828.457952617,\n",
       " 4405828.457952617,\n",
       " 4405828.457952617,\n",
       " 4405828.457952617,\n",
       " 4405828.457952617,\n",
       " 4405828.457952617,\n",
       " 4405828.457952617,\n",
       " 4405828.457952617,\n",
       " 4405828.457952617,\n",
       " 4405828.457952617,\n",
       " 4405828.457952617,\n",
       " 4405828.457952617,\n",
       " 4405828.457952617,\n",
       " 4405828.457952617,\n",
       " 4405828.457952617,\n",
       " 4405828.457952617,\n",
       " 4405828.457952617,\n",
       " 4405828.457952617,\n",
       " 4405828.457952617,\n",
       " 4405828.457952617,\n",
       " 4405828.457952617,\n",
       " 4405828.457952617,\n",
       " 4405828.457952617,\n",
       " 4405828.457952617,\n",
       " 4405828.457952617,\n",
       " 4405828.457952617,\n",
       " 4405828.457952617,\n",
       " 4405828.457952617,\n",
       " 4405828.457952617,\n",
       " 4405828.457952617,\n",
       " 4405828.457952617,\n",
       " 4405828.457952617,\n",
       " 4405828.457952617,\n",
       " 4405828.457952617,\n",
       " 4405828.457952617,\n",
       " 4405828.457952617,\n",
       " 4405828.457952617,\n",
       " 4405828.457952617,\n",
       " 4405828.457952617,\n",
       " 4405828.457952617,\n",
       " 4405828.457952617,\n",
       " 4405828.457952617,\n",
       " 4405828.457952617]"
      ]
     },
     "execution_count": 60,
     "metadata": {},
     "output_type": "execute_result"
    }
   ],
   "source": [
    "rmse_list"
   ]
  },
  {
   "cell_type": "code",
   "execution_count": 61,
   "metadata": {},
   "outputs": [
    {
     "data": {
      "application/vnd.microsoft.datawrangler.viewer.v0+json": {
       "columns": [
        {
         "name": "index",
         "rawType": "int64",
         "type": "integer"
        },
        {
         "name": "D",
         "rawType": "int64",
         "type": "integer"
        },
        {
         "name": "P",
         "rawType": "int64",
         "type": "integer"
        },
        {
         "name": "Q",
         "rawType": "int64",
         "type": "integer"
        },
        {
         "name": "d",
         "rawType": "int64",
         "type": "integer"
        },
        {
         "name": "p",
         "rawType": "int64",
         "type": "integer"
        },
        {
         "name": "q",
         "rawType": "int64",
         "type": "integer"
        },
        {
         "name": "rmse",
         "rawType": "float64",
         "type": "float"
        }
       ],
       "conversionMethod": "pd.DataFrame",
       "ref": "25e87598-9dcd-4914-bcd7-76a295802778",
       "rows": [
        [
         "0",
         "0",
         "1",
         "1",
         "0",
         "1",
         "1",
         "4405828.457952617"
        ],
        [
         "1",
         "0",
         "1",
         "1",
         "0",
         "1",
         "2",
         "4405828.457952617"
        ],
        [
         "2",
         "0",
         "1",
         "1",
         "0",
         "1",
         "3",
         "4405828.457952617"
        ],
        [
         "3",
         "0",
         "1",
         "1",
         "0",
         "2",
         "1",
         "4405828.457952617"
        ],
        [
         "4",
         "0",
         "1",
         "1",
         "0",
         "2",
         "2",
         "4405828.457952617"
        ],
        [
         "5",
         "0",
         "1",
         "1",
         "0",
         "2",
         "3",
         "4405828.457952617"
        ],
        [
         "6",
         "0",
         "1",
         "1",
         "0",
         "3",
         "1",
         "4405828.457952617"
        ],
        [
         "7",
         "0",
         "1",
         "1",
         "0",
         "3",
         "2",
         "4405828.457952617"
        ],
        [
         "8",
         "0",
         "1",
         "1",
         "0",
         "3",
         "3",
         "4405828.457952617"
        ],
        [
         "9",
         "0",
         "1",
         "1",
         "1",
         "1",
         "1",
         "4405828.457952617"
        ],
        [
         "10",
         "0",
         "1",
         "1",
         "1",
         "1",
         "2",
         "4405828.457952617"
        ],
        [
         "11",
         "0",
         "1",
         "1",
         "1",
         "1",
         "3",
         "4405828.457952617"
        ],
        [
         "12",
         "0",
         "1",
         "1",
         "1",
         "2",
         "1",
         "4405828.457952617"
        ],
        [
         "13",
         "0",
         "1",
         "1",
         "1",
         "2",
         "2",
         "4405828.457952617"
        ],
        [
         "14",
         "0",
         "1",
         "1",
         "1",
         "2",
         "3",
         "4405828.457952617"
        ],
        [
         "15",
         "0",
         "1",
         "1",
         "1",
         "3",
         "1",
         "4405828.457952617"
        ],
        [
         "16",
         "0",
         "1",
         "1",
         "1",
         "3",
         "2",
         "4405828.457952617"
        ],
        [
         "17",
         "0",
         "1",
         "1",
         "1",
         "3",
         "3",
         "4405828.457952617"
        ],
        [
         "18",
         "0",
         "1",
         "2",
         "0",
         "1",
         "1",
         "4405828.457952617"
        ],
        [
         "19",
         "0",
         "1",
         "2",
         "0",
         "1",
         "2",
         "4405828.457952617"
        ],
        [
         "20",
         "0",
         "1",
         "2",
         "0",
         "1",
         "3",
         "4405828.457952617"
        ],
        [
         "21",
         "0",
         "1",
         "2",
         "0",
         "2",
         "1",
         "4405828.457952617"
        ],
        [
         "22",
         "0",
         "1",
         "2",
         "0",
         "2",
         "2",
         "4405828.457952617"
        ],
        [
         "23",
         "0",
         "1",
         "2",
         "0",
         "2",
         "3",
         "4405828.457952617"
        ],
        [
         "24",
         "0",
         "1",
         "2",
         "0",
         "3",
         "1",
         "4405828.457952617"
        ],
        [
         "25",
         "0",
         "1",
         "2",
         "0",
         "3",
         "2",
         "4405828.457952617"
        ],
        [
         "26",
         "0",
         "1",
         "2",
         "0",
         "3",
         "3",
         "4405828.457952617"
        ],
        [
         "27",
         "0",
         "1",
         "2",
         "1",
         "1",
         "1",
         "4405828.457952617"
        ],
        [
         "28",
         "0",
         "1",
         "2",
         "1",
         "1",
         "2",
         "4405828.457952617"
        ],
        [
         "29",
         "0",
         "1",
         "2",
         "1",
         "1",
         "3",
         "4405828.457952617"
        ],
        [
         "30",
         "0",
         "1",
         "2",
         "1",
         "2",
         "1",
         "4405828.457952617"
        ],
        [
         "31",
         "0",
         "1",
         "2",
         "1",
         "2",
         "2",
         "4405828.457952617"
        ],
        [
         "32",
         "0",
         "1",
         "2",
         "1",
         "2",
         "3",
         "4405828.457952617"
        ],
        [
         "33",
         "0",
         "1",
         "2",
         "1",
         "3",
         "1",
         "4405828.457952617"
        ],
        [
         "34",
         "0",
         "1",
         "2",
         "1",
         "3",
         "2",
         "4405828.457952617"
        ],
        [
         "35",
         "0",
         "1",
         "2",
         "1",
         "3",
         "3",
         "4405828.457952617"
        ],
        [
         "36",
         "0",
         "2",
         "1",
         "0",
         "1",
         "1",
         "4405828.457952617"
        ],
        [
         "37",
         "0",
         "2",
         "1",
         "0",
         "1",
         "2",
         "4405828.457952617"
        ],
        [
         "38",
         "0",
         "2",
         "1",
         "0",
         "1",
         "3",
         "4405828.457952617"
        ],
        [
         "39",
         "0",
         "2",
         "1",
         "0",
         "2",
         "1",
         "4405828.457952617"
        ],
        [
         "40",
         "0",
         "2",
         "1",
         "0",
         "2",
         "2",
         "4405828.457952617"
        ],
        [
         "41",
         "0",
         "2",
         "1",
         "0",
         "2",
         "3",
         "4405828.457952617"
        ],
        [
         "42",
         "0",
         "2",
         "1",
         "0",
         "3",
         "1",
         "4405828.457952617"
        ],
        [
         "43",
         "0",
         "2",
         "1",
         "0",
         "3",
         "2",
         "4405828.457952617"
        ],
        [
         "44",
         "0",
         "2",
         "1",
         "0",
         "3",
         "3",
         "4405828.457952617"
        ],
        [
         "45",
         "0",
         "2",
         "1",
         "1",
         "1",
         "1",
         "4405828.457952617"
        ],
        [
         "46",
         "0",
         "2",
         "1",
         "1",
         "1",
         "2",
         "4405828.457952617"
        ],
        [
         "47",
         "0",
         "2",
         "1",
         "1",
         "1",
         "3",
         "4405828.457952617"
        ],
        [
         "48",
         "0",
         "2",
         "1",
         "1",
         "2",
         "1",
         "4405828.457952617"
        ],
        [
         "49",
         "0",
         "2",
         "1",
         "1",
         "2",
         "2",
         "4405828.457952617"
        ]
       ],
       "shape": {
        "columns": 7,
        "rows": 72
       }
      },
      "text/html": [
       "<div>\n",
       "<style scoped>\n",
       "    .dataframe tbody tr th:only-of-type {\n",
       "        vertical-align: middle;\n",
       "    }\n",
       "\n",
       "    .dataframe tbody tr th {\n",
       "        vertical-align: top;\n",
       "    }\n",
       "\n",
       "    .dataframe thead th {\n",
       "        text-align: right;\n",
       "    }\n",
       "</style>\n",
       "<table border=\"1\" class=\"dataframe\">\n",
       "  <thead>\n",
       "    <tr style=\"text-align: right;\">\n",
       "      <th></th>\n",
       "      <th>D</th>\n",
       "      <th>P</th>\n",
       "      <th>Q</th>\n",
       "      <th>d</th>\n",
       "      <th>p</th>\n",
       "      <th>q</th>\n",
       "      <th>rmse</th>\n",
       "    </tr>\n",
       "  </thead>\n",
       "  <tbody>\n",
       "    <tr>\n",
       "      <th>0</th>\n",
       "      <td>0</td>\n",
       "      <td>1</td>\n",
       "      <td>1</td>\n",
       "      <td>0</td>\n",
       "      <td>1</td>\n",
       "      <td>1</td>\n",
       "      <td>4.405828e+06</td>\n",
       "    </tr>\n",
       "    <tr>\n",
       "      <th>1</th>\n",
       "      <td>0</td>\n",
       "      <td>1</td>\n",
       "      <td>1</td>\n",
       "      <td>0</td>\n",
       "      <td>1</td>\n",
       "      <td>2</td>\n",
       "      <td>4.405828e+06</td>\n",
       "    </tr>\n",
       "    <tr>\n",
       "      <th>2</th>\n",
       "      <td>0</td>\n",
       "      <td>1</td>\n",
       "      <td>1</td>\n",
       "      <td>0</td>\n",
       "      <td>1</td>\n",
       "      <td>3</td>\n",
       "      <td>4.405828e+06</td>\n",
       "    </tr>\n",
       "    <tr>\n",
       "      <th>3</th>\n",
       "      <td>0</td>\n",
       "      <td>1</td>\n",
       "      <td>1</td>\n",
       "      <td>0</td>\n",
       "      <td>2</td>\n",
       "      <td>1</td>\n",
       "      <td>4.405828e+06</td>\n",
       "    </tr>\n",
       "    <tr>\n",
       "      <th>4</th>\n",
       "      <td>0</td>\n",
       "      <td>1</td>\n",
       "      <td>1</td>\n",
       "      <td>0</td>\n",
       "      <td>2</td>\n",
       "      <td>2</td>\n",
       "      <td>4.405828e+06</td>\n",
       "    </tr>\n",
       "    <tr>\n",
       "      <th>...</th>\n",
       "      <td>...</td>\n",
       "      <td>...</td>\n",
       "      <td>...</td>\n",
       "      <td>...</td>\n",
       "      <td>...</td>\n",
       "      <td>...</td>\n",
       "      <td>...</td>\n",
       "    </tr>\n",
       "    <tr>\n",
       "      <th>67</th>\n",
       "      <td>0</td>\n",
       "      <td>2</td>\n",
       "      <td>2</td>\n",
       "      <td>1</td>\n",
       "      <td>2</td>\n",
       "      <td>2</td>\n",
       "      <td>4.405828e+06</td>\n",
       "    </tr>\n",
       "    <tr>\n",
       "      <th>68</th>\n",
       "      <td>0</td>\n",
       "      <td>2</td>\n",
       "      <td>2</td>\n",
       "      <td>1</td>\n",
       "      <td>2</td>\n",
       "      <td>3</td>\n",
       "      <td>4.405828e+06</td>\n",
       "    </tr>\n",
       "    <tr>\n",
       "      <th>69</th>\n",
       "      <td>0</td>\n",
       "      <td>2</td>\n",
       "      <td>2</td>\n",
       "      <td>1</td>\n",
       "      <td>3</td>\n",
       "      <td>1</td>\n",
       "      <td>4.405828e+06</td>\n",
       "    </tr>\n",
       "    <tr>\n",
       "      <th>70</th>\n",
       "      <td>0</td>\n",
       "      <td>2</td>\n",
       "      <td>2</td>\n",
       "      <td>1</td>\n",
       "      <td>3</td>\n",
       "      <td>2</td>\n",
       "      <td>4.405828e+06</td>\n",
       "    </tr>\n",
       "    <tr>\n",
       "      <th>71</th>\n",
       "      <td>0</td>\n",
       "      <td>2</td>\n",
       "      <td>2</td>\n",
       "      <td>1</td>\n",
       "      <td>3</td>\n",
       "      <td>3</td>\n",
       "      <td>4.405828e+06</td>\n",
       "    </tr>\n",
       "  </tbody>\n",
       "</table>\n",
       "<p>72 rows × 7 columns</p>\n",
       "</div>"
      ],
      "text/plain": [
       "    D  P  Q  d  p  q          rmse\n",
       "0   0  1  1  0  1  1  4.405828e+06\n",
       "1   0  1  1  0  1  2  4.405828e+06\n",
       "2   0  1  1  0  1  3  4.405828e+06\n",
       "3   0  1  1  0  2  1  4.405828e+06\n",
       "4   0  1  1  0  2  2  4.405828e+06\n",
       ".. .. .. .. .. .. ..           ...\n",
       "67  0  2  2  1  2  2  4.405828e+06\n",
       "68  0  2  2  1  2  3  4.405828e+06\n",
       "69  0  2  2  1  3  1  4.405828e+06\n",
       "70  0  2  2  1  3  2  4.405828e+06\n",
       "71  0  2  2  1  3  3  4.405828e+06\n",
       "\n",
       "[72 rows x 7 columns]"
      ]
     },
     "execution_count": 61,
     "metadata": {},
     "output_type": "execute_result"
    }
   ],
   "source": [
    "tuning_results = pd.DataFrame(grid)\n",
    "tuning_results['rmse'] = rmse_list\n",
    "tuning_results"
   ]
  },
  {
   "cell_type": "code",
   "execution_count": 72,
   "metadata": {},
   "outputs": [
    {
     "data": {
      "text/plain": [
       "D       0.000000e+00\n",
       "P       1.000000e+00\n",
       "Q       1.000000e+00\n",
       "d       0.000000e+00\n",
       "p       1.000000e+00\n",
       "q       1.000000e+00\n",
       "rmse    4.405828e+06\n",
       "Name: 0, dtype: float64"
      ]
     },
     "execution_count": 72,
     "metadata": {},
     "output_type": "execute_result"
    }
   ],
   "source": [
    "best_params = tuning_results[tuning_results['rmse'] == tuning_results['rmse'].min()].transpose()[0]\n",
    "best_params"
   ]
  },
  {
   "cell_type": "markdown",
   "metadata": {},
   "source": [
    "## Forecasting"
   ]
  },
  {
   "cell_type": "code",
   "execution_count": 112,
   "metadata": {},
   "outputs": [],
   "source": [
    "# prepare the inputs\n",
    "y = df['y']\n",
    "y.index = pd.to_datetime(y.index)\n",
    "X = df.iloc[:,1:3]"
   ]
  },
  {
   "cell_type": "code",
   "execution_count": 113,
   "metadata": {},
   "outputs": [
    {
     "data": {
      "text/plain": [
       "DatetimeIndex(['2018-01-01', '2018-01-02', '2018-01-03', '2018-01-04',\n",
       "               '2018-01-05', '2018-01-06', '2018-01-07', '2018-01-08',\n",
       "               '2018-01-09', '2018-01-10',\n",
       "               ...\n",
       "               '2022-11-21', '2022-11-22', '2022-11-23', '2022-11-24',\n",
       "               '2022-11-25', '2022-11-26', '2022-11-27', '2022-11-28',\n",
       "               '2022-11-29', '2022-11-30'],\n",
       "              dtype='datetime64[ns]', name='date', length=1795, freq=None)"
      ]
     },
     "execution_count": 113,
     "metadata": {},
     "output_type": "execute_result"
    }
   ],
   "source": [
    "y.index"
   ]
  },
  {
   "cell_type": "code",
   "execution_count": 76,
   "metadata": {},
   "outputs": [],
   "source": [
    "# Fetch the best parameters\n",
    "p = int(best_params.loc['p'])\n",
    "d = int(best_params.loc['d'])\n",
    "q = int(best_params.loc['q'])\n",
    "P = int(best_params.loc['P'])\n",
    "D = int(best_params.loc['D'])\n",
    "Q = int(best_params.loc['Q'])"
   ]
  },
  {
   "cell_type": "code",
   "execution_count": 86,
   "metadata": {},
   "outputs": [],
   "source": [
    "# Loading the data\n",
    "df_future = pd.read_csv(\"../data/future_regressors.csv\",\n",
    "                        index_col='date',\n",
    "                        parse_dates=True,\n",
    "                        dayfirst=True)"
   ]
  },
  {
   "cell_type": "code",
   "execution_count": 87,
   "metadata": {},
   "outputs": [
    {
     "data": {
      "application/vnd.microsoft.datawrangler.viewer.v0+json": {
       "columns": [
        {
         "name": "date",
         "rawType": "datetime64[ns]",
         "type": "datetime"
        },
        {
         "name": "revenue",
         "rawType": "float64",
         "type": "float"
        },
        {
         "name": "discount_rate",
         "rawType": "float64",
         "type": "float"
        },
        {
         "name": "coupon_rate",
         "rawType": "float64",
         "type": "float"
        },
        {
         "name": "discount_rate_lag1",
         "rawType": "float64",
         "type": "float"
        },
        {
         "name": "coupon_rate_lag1",
         "rawType": "float64",
         "type": "float"
        }
       ],
       "conversionMethod": "pd.DataFrame",
       "ref": "84b86db9-de5e-40ce-a8aa-0d6e34fca5a3",
       "rows": [
        [
         "2022-12-01 00:00:00",
         null,
         "0.1831",
         "0.0031",
         "0.171",
         "0.0032"
        ],
        [
         "2022-12-02 00:00:00",
         null,
         "0.1995",
         "0.0036",
         "0.1831",
         "0.0031"
        ],
        [
         "2022-12-03 00:00:00",
         null,
         "0.2029",
         "0.0032",
         "0.1995",
         "0.0036"
        ],
        [
         "2022-12-04 00:00:00",
         null,
         "0.1898",
         "0.003",
         "0.2029",
         "0.0032"
        ],
        [
         "2022-12-05 00:00:00",
         null,
         "0.181",
         "0.0042",
         "0.1898",
         "0.003"
        ]
       ],
       "shape": {
        "columns": 5,
        "rows": 5
       }
      },
      "text/html": [
       "<div>\n",
       "<style scoped>\n",
       "    .dataframe tbody tr th:only-of-type {\n",
       "        vertical-align: middle;\n",
       "    }\n",
       "\n",
       "    .dataframe tbody tr th {\n",
       "        vertical-align: top;\n",
       "    }\n",
       "\n",
       "    .dataframe thead th {\n",
       "        text-align: right;\n",
       "    }\n",
       "</style>\n",
       "<table border=\"1\" class=\"dataframe\">\n",
       "  <thead>\n",
       "    <tr style=\"text-align: right;\">\n",
       "      <th></th>\n",
       "      <th>revenue</th>\n",
       "      <th>discount_rate</th>\n",
       "      <th>coupon_rate</th>\n",
       "      <th>discount_rate_lag1</th>\n",
       "      <th>coupon_rate_lag1</th>\n",
       "    </tr>\n",
       "    <tr>\n",
       "      <th>date</th>\n",
       "      <th></th>\n",
       "      <th></th>\n",
       "      <th></th>\n",
       "      <th></th>\n",
       "      <th></th>\n",
       "    </tr>\n",
       "  </thead>\n",
       "  <tbody>\n",
       "    <tr>\n",
       "      <th>2022-12-01</th>\n",
       "      <td>NaN</td>\n",
       "      <td>0.1831</td>\n",
       "      <td>0.0031</td>\n",
       "      <td>0.1710</td>\n",
       "      <td>0.0032</td>\n",
       "    </tr>\n",
       "    <tr>\n",
       "      <th>2022-12-02</th>\n",
       "      <td>NaN</td>\n",
       "      <td>0.1995</td>\n",
       "      <td>0.0036</td>\n",
       "      <td>0.1831</td>\n",
       "      <td>0.0031</td>\n",
       "    </tr>\n",
       "    <tr>\n",
       "      <th>2022-12-03</th>\n",
       "      <td>NaN</td>\n",
       "      <td>0.2029</td>\n",
       "      <td>0.0032</td>\n",
       "      <td>0.1995</td>\n",
       "      <td>0.0036</td>\n",
       "    </tr>\n",
       "    <tr>\n",
       "      <th>2022-12-04</th>\n",
       "      <td>NaN</td>\n",
       "      <td>0.1898</td>\n",
       "      <td>0.0030</td>\n",
       "      <td>0.2029</td>\n",
       "      <td>0.0032</td>\n",
       "    </tr>\n",
       "    <tr>\n",
       "      <th>2022-12-05</th>\n",
       "      <td>NaN</td>\n",
       "      <td>0.1810</td>\n",
       "      <td>0.0042</td>\n",
       "      <td>0.1898</td>\n",
       "      <td>0.0030</td>\n",
       "    </tr>\n",
       "  </tbody>\n",
       "</table>\n",
       "</div>"
      ],
      "text/plain": [
       "            revenue  discount_rate  coupon_rate  discount_rate_lag1  \\\n",
       "date                                                                  \n",
       "2022-12-01      NaN         0.1831       0.0031              0.1710   \n",
       "2022-12-02      NaN         0.1995       0.0036              0.1831   \n",
       "2022-12-03      NaN         0.2029       0.0032              0.1995   \n",
       "2022-12-04      NaN         0.1898       0.0030              0.2029   \n",
       "2022-12-05      NaN         0.1810       0.0042              0.1898   \n",
       "\n",
       "            coupon_rate_lag1  \n",
       "date                          \n",
       "2022-12-01            0.0032  \n",
       "2022-12-02            0.0031  \n",
       "2022-12-03            0.0036  \n",
       "2022-12-04            0.0032  \n",
       "2022-12-05            0.0030  "
      ]
     },
     "execution_count": 87,
     "metadata": {},
     "output_type": "execute_result"
    }
   ],
   "source": [
    "df_future.head()"
   ]
  },
  {
   "cell_type": "code",
   "execution_count": 103,
   "metadata": {},
   "outputs": [
    {
     "data": {
      "text/plain": [
       "DatetimeIndex(['2022-12-01', '2022-12-02', '2022-12-03', '2022-12-04',\n",
       "               '2022-12-05', '2022-12-06', '2022-12-07', '2022-12-08',\n",
       "               '2022-12-09', '2022-12-10', '2022-12-11', '2022-12-12',\n",
       "               '2022-12-13', '2022-12-14', '2022-12-15', '2022-12-16',\n",
       "               '2022-12-17', '2022-12-18', '2022-12-19', '2022-12-20',\n",
       "               '2022-12-21', '2022-12-22', '2022-12-23', '2022-12-24',\n",
       "               '2022-12-25', '2022-12-26', '2022-12-27', '2022-12-28',\n",
       "               '2022-12-29', '2022-12-30', '2022-12-31'],\n",
       "              dtype='datetime64[ns]', name='date', freq=None)"
      ]
     },
     "execution_count": 103,
     "metadata": {},
     "output_type": "execute_result"
    }
   ],
   "source": [
    "df_future.index"
   ]
  },
  {
   "cell_type": "code",
   "execution_count": 92,
   "metadata": {},
   "outputs": [
    {
     "data": {
      "application/vnd.microsoft.datawrangler.viewer.v0+json": {
       "columns": [
        {
         "name": "date",
         "rawType": "datetime64[ns]",
         "type": "datetime"
        },
        {
         "name": "discount_rate",
         "rawType": "float64",
         "type": "float"
        },
        {
         "name": "coupon_rate",
         "rawType": "float64",
         "type": "float"
        }
       ],
       "conversionMethod": "pd.DataFrame",
       "ref": "04628009-dbe8-45cd-82dd-d8b3ca595300",
       "rows": [
        [
         "2022-12-01 00:00:00",
         "18.31",
         "0.31"
        ],
        [
         "2022-12-02 00:00:00",
         "19.95",
         "0.36"
        ],
        [
         "2022-12-03 00:00:00",
         "20.29",
         "0.32"
        ],
        [
         "2022-12-04 00:00:00",
         "18.98",
         "0.3"
        ],
        [
         "2022-12-05 00:00:00",
         "18.1",
         "0.42"
        ],
        [
         "2022-12-06 00:00:00",
         "17.78",
         "0.43"
        ],
        [
         "2022-12-07 00:00:00",
         "18.44",
         "0.4"
        ],
        [
         "2022-12-08 00:00:00",
         "18.3",
         "0.38"
        ],
        [
         "2022-12-09 00:00:00",
         "16.89",
         "0.3"
        ],
        [
         "2022-12-10 00:00:00",
         "17.17",
         "0.28"
        ],
        [
         "2022-12-11 00:00:00",
         "18.09",
         "3.21"
        ],
        [
         "2022-12-12 00:00:00",
         "17.59",
         "3.03"
        ],
        [
         "2022-12-13 00:00:00",
         "17.37",
         "3.06"
        ],
        [
         "2022-12-14 00:00:00",
         "19.7",
         "4.42"
        ],
        [
         "2022-12-15 00:00:00",
         "20.56",
         "5.37"
        ],
        [
         "2022-12-16 00:00:00",
         "22.4",
         "0.52"
        ],
        [
         "2022-12-17 00:00:00",
         "23.24",
         "0.46"
        ],
        [
         "2022-12-18 00:00:00",
         "23.04",
         "0.48"
        ],
        [
         "2022-12-19 00:00:00",
         "21.96",
         "0.49"
        ],
        [
         "2022-12-20 00:00:00",
         "22.16",
         "0.49"
        ],
        [
         "2022-12-21 00:00:00",
         "24.31",
         "0.38"
        ],
        [
         "2022-12-22 00:00:00",
         "25.49",
         "0.35"
        ],
        [
         "2022-12-23 00:00:00",
         "27.53",
         "0.37"
        ],
        [
         "2022-12-24 00:00:00",
         "28.87",
         "0.47"
        ],
        [
         "2022-12-25 00:00:00",
         "30.4",
         "0.45"
        ],
        [
         "2022-12-26 00:00:00",
         "31.06",
         "6.86"
        ],
        [
         "2022-12-27 00:00:00",
         "29.32",
         "6.09"
        ],
        [
         "2022-12-28 00:00:00",
         "29.52",
         "6.41"
        ],
        [
         "2022-12-29 00:00:00",
         "28.98",
         "0.48"
        ],
        [
         "2022-12-30 00:00:00",
         "28.6",
         "0.4"
        ],
        [
         "2022-12-31 00:00:00",
         "29.01",
         "0.72"
        ]
       ],
       "shape": {
        "columns": 2,
        "rows": 31
       }
      },
      "text/html": [
       "<div>\n",
       "<style scoped>\n",
       "    .dataframe tbody tr th:only-of-type {\n",
       "        vertical-align: middle;\n",
       "    }\n",
       "\n",
       "    .dataframe tbody tr th {\n",
       "        vertical-align: top;\n",
       "    }\n",
       "\n",
       "    .dataframe thead th {\n",
       "        text-align: right;\n",
       "    }\n",
       "</style>\n",
       "<table border=\"1\" class=\"dataframe\">\n",
       "  <thead>\n",
       "    <tr style=\"text-align: right;\">\n",
       "      <th></th>\n",
       "      <th>discount_rate</th>\n",
       "      <th>coupon_rate</th>\n",
       "    </tr>\n",
       "    <tr>\n",
       "      <th>date</th>\n",
       "      <th></th>\n",
       "      <th></th>\n",
       "    </tr>\n",
       "  </thead>\n",
       "  <tbody>\n",
       "    <tr>\n",
       "      <th>2022-12-01</th>\n",
       "      <td>18.31</td>\n",
       "      <td>0.31</td>\n",
       "    </tr>\n",
       "    <tr>\n",
       "      <th>2022-12-02</th>\n",
       "      <td>19.95</td>\n",
       "      <td>0.36</td>\n",
       "    </tr>\n",
       "    <tr>\n",
       "      <th>2022-12-03</th>\n",
       "      <td>20.29</td>\n",
       "      <td>0.32</td>\n",
       "    </tr>\n",
       "    <tr>\n",
       "      <th>2022-12-04</th>\n",
       "      <td>18.98</td>\n",
       "      <td>0.30</td>\n",
       "    </tr>\n",
       "    <tr>\n",
       "      <th>2022-12-05</th>\n",
       "      <td>18.10</td>\n",
       "      <td>0.42</td>\n",
       "    </tr>\n",
       "    <tr>\n",
       "      <th>2022-12-06</th>\n",
       "      <td>17.78</td>\n",
       "      <td>0.43</td>\n",
       "    </tr>\n",
       "    <tr>\n",
       "      <th>2022-12-07</th>\n",
       "      <td>18.44</td>\n",
       "      <td>0.40</td>\n",
       "    </tr>\n",
       "    <tr>\n",
       "      <th>2022-12-08</th>\n",
       "      <td>18.30</td>\n",
       "      <td>0.38</td>\n",
       "    </tr>\n",
       "    <tr>\n",
       "      <th>2022-12-09</th>\n",
       "      <td>16.89</td>\n",
       "      <td>0.30</td>\n",
       "    </tr>\n",
       "    <tr>\n",
       "      <th>2022-12-10</th>\n",
       "      <td>17.17</td>\n",
       "      <td>0.28</td>\n",
       "    </tr>\n",
       "    <tr>\n",
       "      <th>2022-12-11</th>\n",
       "      <td>18.09</td>\n",
       "      <td>3.21</td>\n",
       "    </tr>\n",
       "    <tr>\n",
       "      <th>2022-12-12</th>\n",
       "      <td>17.59</td>\n",
       "      <td>3.03</td>\n",
       "    </tr>\n",
       "    <tr>\n",
       "      <th>2022-12-13</th>\n",
       "      <td>17.37</td>\n",
       "      <td>3.06</td>\n",
       "    </tr>\n",
       "    <tr>\n",
       "      <th>2022-12-14</th>\n",
       "      <td>19.70</td>\n",
       "      <td>4.42</td>\n",
       "    </tr>\n",
       "    <tr>\n",
       "      <th>2022-12-15</th>\n",
       "      <td>20.56</td>\n",
       "      <td>5.37</td>\n",
       "    </tr>\n",
       "    <tr>\n",
       "      <th>2022-12-16</th>\n",
       "      <td>22.40</td>\n",
       "      <td>0.52</td>\n",
       "    </tr>\n",
       "    <tr>\n",
       "      <th>2022-12-17</th>\n",
       "      <td>23.24</td>\n",
       "      <td>0.46</td>\n",
       "    </tr>\n",
       "    <tr>\n",
       "      <th>2022-12-18</th>\n",
       "      <td>23.04</td>\n",
       "      <td>0.48</td>\n",
       "    </tr>\n",
       "    <tr>\n",
       "      <th>2022-12-19</th>\n",
       "      <td>21.96</td>\n",
       "      <td>0.49</td>\n",
       "    </tr>\n",
       "    <tr>\n",
       "      <th>2022-12-20</th>\n",
       "      <td>22.16</td>\n",
       "      <td>0.49</td>\n",
       "    </tr>\n",
       "    <tr>\n",
       "      <th>2022-12-21</th>\n",
       "      <td>24.31</td>\n",
       "      <td>0.38</td>\n",
       "    </tr>\n",
       "    <tr>\n",
       "      <th>2022-12-22</th>\n",
       "      <td>25.49</td>\n",
       "      <td>0.35</td>\n",
       "    </tr>\n",
       "    <tr>\n",
       "      <th>2022-12-23</th>\n",
       "      <td>27.53</td>\n",
       "      <td>0.37</td>\n",
       "    </tr>\n",
       "    <tr>\n",
       "      <th>2022-12-24</th>\n",
       "      <td>28.87</td>\n",
       "      <td>0.47</td>\n",
       "    </tr>\n",
       "    <tr>\n",
       "      <th>2022-12-25</th>\n",
       "      <td>30.40</td>\n",
       "      <td>0.45</td>\n",
       "    </tr>\n",
       "    <tr>\n",
       "      <th>2022-12-26</th>\n",
       "      <td>31.06</td>\n",
       "      <td>6.86</td>\n",
       "    </tr>\n",
       "    <tr>\n",
       "      <th>2022-12-27</th>\n",
       "      <td>29.32</td>\n",
       "      <td>6.09</td>\n",
       "    </tr>\n",
       "    <tr>\n",
       "      <th>2022-12-28</th>\n",
       "      <td>29.52</td>\n",
       "      <td>6.41</td>\n",
       "    </tr>\n",
       "    <tr>\n",
       "      <th>2022-12-29</th>\n",
       "      <td>28.98</td>\n",
       "      <td>0.48</td>\n",
       "    </tr>\n",
       "    <tr>\n",
       "      <th>2022-12-30</th>\n",
       "      <td>28.60</td>\n",
       "      <td>0.40</td>\n",
       "    </tr>\n",
       "    <tr>\n",
       "      <th>2022-12-31</th>\n",
       "      <td>29.01</td>\n",
       "      <td>0.72</td>\n",
       "    </tr>\n",
       "  </tbody>\n",
       "</table>\n",
       "</div>"
      ],
      "text/plain": [
       "            discount_rate  coupon_rate\n",
       "date                                  \n",
       "2022-12-01          18.31         0.31\n",
       "2022-12-02          19.95         0.36\n",
       "2022-12-03          20.29         0.32\n",
       "2022-12-04          18.98         0.30\n",
       "2022-12-05          18.10         0.42\n",
       "2022-12-06          17.78         0.43\n",
       "2022-12-07          18.44         0.40\n",
       "2022-12-08          18.30         0.38\n",
       "2022-12-09          16.89         0.30\n",
       "2022-12-10          17.17         0.28\n",
       "2022-12-11          18.09         3.21\n",
       "2022-12-12          17.59         3.03\n",
       "2022-12-13          17.37         3.06\n",
       "2022-12-14          19.70         4.42\n",
       "2022-12-15          20.56         5.37\n",
       "2022-12-16          22.40         0.52\n",
       "2022-12-17          23.24         0.46\n",
       "2022-12-18          23.04         0.48\n",
       "2022-12-19          21.96         0.49\n",
       "2022-12-20          22.16         0.49\n",
       "2022-12-21          24.31         0.38\n",
       "2022-12-22          25.49         0.35\n",
       "2022-12-23          27.53         0.37\n",
       "2022-12-24          28.87         0.47\n",
       "2022-12-25          30.40         0.45\n",
       "2022-12-26          31.06         6.86\n",
       "2022-12-27          29.32         6.09\n",
       "2022-12-28          29.52         6.41\n",
       "2022-12-29          28.98         0.48\n",
       "2022-12-30          28.60         0.40\n",
       "2022-12-31          29.01         0.72"
      ]
     },
     "execution_count": 92,
     "metadata": {},
     "output_type": "execute_result"
    }
   ],
   "source": [
    "# Prepare the Regresssors\n",
    "X_future = df_future.iloc[:,1:3].mul(100).round(2)\n",
    "X_future"
   ]
  },
  {
   "cell_type": "code",
   "execution_count": 102,
   "metadata": {},
   "outputs": [
    {
     "data": {
      "text/plain": [
       "DatetimeIndex(['2022-12-01', '2022-12-02', '2022-12-03', '2022-12-04',\n",
       "               '2022-12-05', '2022-12-06', '2022-12-07', '2022-12-08',\n",
       "               '2022-12-09', '2022-12-10', '2022-12-11', '2022-12-12',\n",
       "               '2022-12-13', '2022-12-14', '2022-12-15', '2022-12-16',\n",
       "               '2022-12-17', '2022-12-18', '2022-12-19', '2022-12-20',\n",
       "               '2022-12-21', '2022-12-22', '2022-12-23', '2022-12-24',\n",
       "               '2022-12-25', '2022-12-26', '2022-12-27', '2022-12-28',\n",
       "               '2022-12-29', '2022-12-30', '2022-12-31'],\n",
       "              dtype='datetime64[ns]', name='date', freq=None)"
      ]
     },
     "execution_count": 102,
     "metadata": {},
     "output_type": "execute_result"
    }
   ],
   "source": [
    "X_future.index"
   ]
  },
  {
   "cell_type": "code",
   "execution_count": 93,
   "metadata": {},
   "outputs": [],
   "source": [
    "# Tuned Sarimax Model\n",
    "tuned_model = ARIMA(order=(p,d,q),seasonal_order=(P,D,Q, 7))"
   ]
  },
  {
   "cell_type": "code",
   "execution_count": 95,
   "metadata": {},
   "outputs": [
    {
     "data": {
      "text/html": [
       "<style>#sk-container-id-2 {\n",
       "  /* Definition of color scheme common for light and dark mode */\n",
       "  --sklearn-color-text: #000;\n",
       "  --sklearn-color-text-muted: #666;\n",
       "  --sklearn-color-line: gray;\n",
       "  /* Definition of color scheme for unfitted estimators */\n",
       "  --sklearn-color-unfitted-level-0: #fff5e6;\n",
       "  --sklearn-color-unfitted-level-1: #f6e4d2;\n",
       "  --sklearn-color-unfitted-level-2: #ffe0b3;\n",
       "  --sklearn-color-unfitted-level-3: chocolate;\n",
       "  /* Definition of color scheme for fitted estimators */\n",
       "  --sklearn-color-fitted-level-0: #f0f8ff;\n",
       "  --sklearn-color-fitted-level-1: #d4ebff;\n",
       "  --sklearn-color-fitted-level-2: #b3dbfd;\n",
       "  --sklearn-color-fitted-level-3: cornflowerblue;\n",
       "\n",
       "  /* Specific color for light theme */\n",
       "  --sklearn-color-text-on-default-background: var(--sg-text-color, var(--theme-code-foreground, var(--jp-content-font-color1, black)));\n",
       "  --sklearn-color-background: var(--sg-background-color, var(--theme-background, var(--jp-layout-color0, white)));\n",
       "  --sklearn-color-border-box: var(--sg-text-color, var(--theme-code-foreground, var(--jp-content-font-color1, black)));\n",
       "  --sklearn-color-icon: #696969;\n",
       "\n",
       "  @media (prefers-color-scheme: dark) {\n",
       "    /* Redefinition of color scheme for dark theme */\n",
       "    --sklearn-color-text-on-default-background: var(--sg-text-color, var(--theme-code-foreground, var(--jp-content-font-color1, white)));\n",
       "    --sklearn-color-background: var(--sg-background-color, var(--theme-background, var(--jp-layout-color0, #111)));\n",
       "    --sklearn-color-border-box: var(--sg-text-color, var(--theme-code-foreground, var(--jp-content-font-color1, white)));\n",
       "    --sklearn-color-icon: #878787;\n",
       "  }\n",
       "}\n",
       "\n",
       "#sk-container-id-2 {\n",
       "  color: var(--sklearn-color-text);\n",
       "}\n",
       "\n",
       "#sk-container-id-2 pre {\n",
       "  padding: 0;\n",
       "}\n",
       "\n",
       "#sk-container-id-2 input.sk-hidden--visually {\n",
       "  border: 0;\n",
       "  clip: rect(1px 1px 1px 1px);\n",
       "  clip: rect(1px, 1px, 1px, 1px);\n",
       "  height: 1px;\n",
       "  margin: -1px;\n",
       "  overflow: hidden;\n",
       "  padding: 0;\n",
       "  position: absolute;\n",
       "  width: 1px;\n",
       "}\n",
       "\n",
       "#sk-container-id-2 div.sk-dashed-wrapped {\n",
       "  border: 1px dashed var(--sklearn-color-line);\n",
       "  margin: 0 0.4em 0.5em 0.4em;\n",
       "  box-sizing: border-box;\n",
       "  padding-bottom: 0.4em;\n",
       "  background-color: var(--sklearn-color-background);\n",
       "}\n",
       "\n",
       "#sk-container-id-2 div.sk-container {\n",
       "  /* jupyter's `normalize.less` sets `[hidden] { display: none; }`\n",
       "     but bootstrap.min.css set `[hidden] { display: none !important; }`\n",
       "     so we also need the `!important` here to be able to override the\n",
       "     default hidden behavior on the sphinx rendered scikit-learn.org.\n",
       "     See: https://github.com/scikit-learn/scikit-learn/issues/21755 */\n",
       "  display: inline-block !important;\n",
       "  position: relative;\n",
       "}\n",
       "\n",
       "#sk-container-id-2 div.sk-text-repr-fallback {\n",
       "  display: none;\n",
       "}\n",
       "\n",
       "div.sk-parallel-item,\n",
       "div.sk-serial,\n",
       "div.sk-item {\n",
       "  /* draw centered vertical line to link estimators */\n",
       "  background-image: linear-gradient(var(--sklearn-color-text-on-default-background), var(--sklearn-color-text-on-default-background));\n",
       "  background-size: 2px 100%;\n",
       "  background-repeat: no-repeat;\n",
       "  background-position: center center;\n",
       "}\n",
       "\n",
       "/* Parallel-specific style estimator block */\n",
       "\n",
       "#sk-container-id-2 div.sk-parallel-item::after {\n",
       "  content: \"\";\n",
       "  width: 100%;\n",
       "  border-bottom: 2px solid var(--sklearn-color-text-on-default-background);\n",
       "  flex-grow: 1;\n",
       "}\n",
       "\n",
       "#sk-container-id-2 div.sk-parallel {\n",
       "  display: flex;\n",
       "  align-items: stretch;\n",
       "  justify-content: center;\n",
       "  background-color: var(--sklearn-color-background);\n",
       "  position: relative;\n",
       "}\n",
       "\n",
       "#sk-container-id-2 div.sk-parallel-item {\n",
       "  display: flex;\n",
       "  flex-direction: column;\n",
       "}\n",
       "\n",
       "#sk-container-id-2 div.sk-parallel-item:first-child::after {\n",
       "  align-self: flex-end;\n",
       "  width: 50%;\n",
       "}\n",
       "\n",
       "#sk-container-id-2 div.sk-parallel-item:last-child::after {\n",
       "  align-self: flex-start;\n",
       "  width: 50%;\n",
       "}\n",
       "\n",
       "#sk-container-id-2 div.sk-parallel-item:only-child::after {\n",
       "  width: 0;\n",
       "}\n",
       "\n",
       "/* Serial-specific style estimator block */\n",
       "\n",
       "#sk-container-id-2 div.sk-serial {\n",
       "  display: flex;\n",
       "  flex-direction: column;\n",
       "  align-items: center;\n",
       "  background-color: var(--sklearn-color-background);\n",
       "  padding-right: 1em;\n",
       "  padding-left: 1em;\n",
       "}\n",
       "\n",
       "\n",
       "/* Toggleable style: style used for estimator/Pipeline/ColumnTransformer box that is\n",
       "clickable and can be expanded/collapsed.\n",
       "- Pipeline and ColumnTransformer use this feature and define the default style\n",
       "- Estimators will overwrite some part of the style using the `sk-estimator` class\n",
       "*/\n",
       "\n",
       "/* Pipeline and ColumnTransformer style (default) */\n",
       "\n",
       "#sk-container-id-2 div.sk-toggleable {\n",
       "  /* Default theme specific background. It is overwritten whether we have a\n",
       "  specific estimator or a Pipeline/ColumnTransformer */\n",
       "  background-color: var(--sklearn-color-background);\n",
       "}\n",
       "\n",
       "/* Toggleable label */\n",
       "#sk-container-id-2 label.sk-toggleable__label {\n",
       "  cursor: pointer;\n",
       "  display: flex;\n",
       "  width: 100%;\n",
       "  margin-bottom: 0;\n",
       "  padding: 0.5em;\n",
       "  box-sizing: border-box;\n",
       "  text-align: center;\n",
       "  align-items: start;\n",
       "  justify-content: space-between;\n",
       "  gap: 0.5em;\n",
       "}\n",
       "\n",
       "#sk-container-id-2 label.sk-toggleable__label .caption {\n",
       "  font-size: 0.6rem;\n",
       "  font-weight: lighter;\n",
       "  color: var(--sklearn-color-text-muted);\n",
       "}\n",
       "\n",
       "#sk-container-id-2 label.sk-toggleable__label-arrow:before {\n",
       "  /* Arrow on the left of the label */\n",
       "  content: \"▸\";\n",
       "  float: left;\n",
       "  margin-right: 0.25em;\n",
       "  color: var(--sklearn-color-icon);\n",
       "}\n",
       "\n",
       "#sk-container-id-2 label.sk-toggleable__label-arrow:hover:before {\n",
       "  color: var(--sklearn-color-text);\n",
       "}\n",
       "\n",
       "/* Toggleable content - dropdown */\n",
       "\n",
       "#sk-container-id-2 div.sk-toggleable__content {\n",
       "  max-height: 0;\n",
       "  max-width: 0;\n",
       "  overflow: hidden;\n",
       "  text-align: left;\n",
       "  /* unfitted */\n",
       "  background-color: var(--sklearn-color-unfitted-level-0);\n",
       "}\n",
       "\n",
       "#sk-container-id-2 div.sk-toggleable__content.fitted {\n",
       "  /* fitted */\n",
       "  background-color: var(--sklearn-color-fitted-level-0);\n",
       "}\n",
       "\n",
       "#sk-container-id-2 div.sk-toggleable__content pre {\n",
       "  margin: 0.2em;\n",
       "  border-radius: 0.25em;\n",
       "  color: var(--sklearn-color-text);\n",
       "  /* unfitted */\n",
       "  background-color: var(--sklearn-color-unfitted-level-0);\n",
       "}\n",
       "\n",
       "#sk-container-id-2 div.sk-toggleable__content.fitted pre {\n",
       "  /* unfitted */\n",
       "  background-color: var(--sklearn-color-fitted-level-0);\n",
       "}\n",
       "\n",
       "#sk-container-id-2 input.sk-toggleable__control:checked~div.sk-toggleable__content {\n",
       "  /* Expand drop-down */\n",
       "  max-height: 200px;\n",
       "  max-width: 100%;\n",
       "  overflow: auto;\n",
       "}\n",
       "\n",
       "#sk-container-id-2 input.sk-toggleable__control:checked~label.sk-toggleable__label-arrow:before {\n",
       "  content: \"▾\";\n",
       "}\n",
       "\n",
       "/* Pipeline/ColumnTransformer-specific style */\n",
       "\n",
       "#sk-container-id-2 div.sk-label input.sk-toggleable__control:checked~label.sk-toggleable__label {\n",
       "  color: var(--sklearn-color-text);\n",
       "  background-color: var(--sklearn-color-unfitted-level-2);\n",
       "}\n",
       "\n",
       "#sk-container-id-2 div.sk-label.fitted input.sk-toggleable__control:checked~label.sk-toggleable__label {\n",
       "  background-color: var(--sklearn-color-fitted-level-2);\n",
       "}\n",
       "\n",
       "/* Estimator-specific style */\n",
       "\n",
       "/* Colorize estimator box */\n",
       "#sk-container-id-2 div.sk-estimator input.sk-toggleable__control:checked~label.sk-toggleable__label {\n",
       "  /* unfitted */\n",
       "  background-color: var(--sklearn-color-unfitted-level-2);\n",
       "}\n",
       "\n",
       "#sk-container-id-2 div.sk-estimator.fitted input.sk-toggleable__control:checked~label.sk-toggleable__label {\n",
       "  /* fitted */\n",
       "  background-color: var(--sklearn-color-fitted-level-2);\n",
       "}\n",
       "\n",
       "#sk-container-id-2 div.sk-label label.sk-toggleable__label,\n",
       "#sk-container-id-2 div.sk-label label {\n",
       "  /* The background is the default theme color */\n",
       "  color: var(--sklearn-color-text-on-default-background);\n",
       "}\n",
       "\n",
       "/* On hover, darken the color of the background */\n",
       "#sk-container-id-2 div.sk-label:hover label.sk-toggleable__label {\n",
       "  color: var(--sklearn-color-text);\n",
       "  background-color: var(--sklearn-color-unfitted-level-2);\n",
       "}\n",
       "\n",
       "/* Label box, darken color on hover, fitted */\n",
       "#sk-container-id-2 div.sk-label.fitted:hover label.sk-toggleable__label.fitted {\n",
       "  color: var(--sklearn-color-text);\n",
       "  background-color: var(--sklearn-color-fitted-level-2);\n",
       "}\n",
       "\n",
       "/* Estimator label */\n",
       "\n",
       "#sk-container-id-2 div.sk-label label {\n",
       "  font-family: monospace;\n",
       "  font-weight: bold;\n",
       "  display: inline-block;\n",
       "  line-height: 1.2em;\n",
       "}\n",
       "\n",
       "#sk-container-id-2 div.sk-label-container {\n",
       "  text-align: center;\n",
       "}\n",
       "\n",
       "/* Estimator-specific */\n",
       "#sk-container-id-2 div.sk-estimator {\n",
       "  font-family: monospace;\n",
       "  border: 1px dotted var(--sklearn-color-border-box);\n",
       "  border-radius: 0.25em;\n",
       "  box-sizing: border-box;\n",
       "  margin-bottom: 0.5em;\n",
       "  /* unfitted */\n",
       "  background-color: var(--sklearn-color-unfitted-level-0);\n",
       "}\n",
       "\n",
       "#sk-container-id-2 div.sk-estimator.fitted {\n",
       "  /* fitted */\n",
       "  background-color: var(--sklearn-color-fitted-level-0);\n",
       "}\n",
       "\n",
       "/* on hover */\n",
       "#sk-container-id-2 div.sk-estimator:hover {\n",
       "  /* unfitted */\n",
       "  background-color: var(--sklearn-color-unfitted-level-2);\n",
       "}\n",
       "\n",
       "#sk-container-id-2 div.sk-estimator.fitted:hover {\n",
       "  /* fitted */\n",
       "  background-color: var(--sklearn-color-fitted-level-2);\n",
       "}\n",
       "\n",
       "/* Specification for estimator info (e.g. \"i\" and \"?\") */\n",
       "\n",
       "/* Common style for \"i\" and \"?\" */\n",
       "\n",
       ".sk-estimator-doc-link,\n",
       "a:link.sk-estimator-doc-link,\n",
       "a:visited.sk-estimator-doc-link {\n",
       "  float: right;\n",
       "  font-size: smaller;\n",
       "  line-height: 1em;\n",
       "  font-family: monospace;\n",
       "  background-color: var(--sklearn-color-background);\n",
       "  border-radius: 1em;\n",
       "  height: 1em;\n",
       "  width: 1em;\n",
       "  text-decoration: none !important;\n",
       "  margin-left: 0.5em;\n",
       "  text-align: center;\n",
       "  /* unfitted */\n",
       "  border: var(--sklearn-color-unfitted-level-1) 1pt solid;\n",
       "  color: var(--sklearn-color-unfitted-level-1);\n",
       "}\n",
       "\n",
       ".sk-estimator-doc-link.fitted,\n",
       "a:link.sk-estimator-doc-link.fitted,\n",
       "a:visited.sk-estimator-doc-link.fitted {\n",
       "  /* fitted */\n",
       "  border: var(--sklearn-color-fitted-level-1) 1pt solid;\n",
       "  color: var(--sklearn-color-fitted-level-1);\n",
       "}\n",
       "\n",
       "/* On hover */\n",
       "div.sk-estimator:hover .sk-estimator-doc-link:hover,\n",
       ".sk-estimator-doc-link:hover,\n",
       "div.sk-label-container:hover .sk-estimator-doc-link:hover,\n",
       ".sk-estimator-doc-link:hover {\n",
       "  /* unfitted */\n",
       "  background-color: var(--sklearn-color-unfitted-level-3);\n",
       "  color: var(--sklearn-color-background);\n",
       "  text-decoration: none;\n",
       "}\n",
       "\n",
       "div.sk-estimator.fitted:hover .sk-estimator-doc-link.fitted:hover,\n",
       ".sk-estimator-doc-link.fitted:hover,\n",
       "div.sk-label-container:hover .sk-estimator-doc-link.fitted:hover,\n",
       ".sk-estimator-doc-link.fitted:hover {\n",
       "  /* fitted */\n",
       "  background-color: var(--sklearn-color-fitted-level-3);\n",
       "  color: var(--sklearn-color-background);\n",
       "  text-decoration: none;\n",
       "}\n",
       "\n",
       "/* Span, style for the box shown on hovering the info icon */\n",
       ".sk-estimator-doc-link span {\n",
       "  display: none;\n",
       "  z-index: 9999;\n",
       "  position: relative;\n",
       "  font-weight: normal;\n",
       "  right: .2ex;\n",
       "  padding: .5ex;\n",
       "  margin: .5ex;\n",
       "  width: min-content;\n",
       "  min-width: 20ex;\n",
       "  max-width: 50ex;\n",
       "  color: var(--sklearn-color-text);\n",
       "  box-shadow: 2pt 2pt 4pt #999;\n",
       "  /* unfitted */\n",
       "  background: var(--sklearn-color-unfitted-level-0);\n",
       "  border: .5pt solid var(--sklearn-color-unfitted-level-3);\n",
       "}\n",
       "\n",
       ".sk-estimator-doc-link.fitted span {\n",
       "  /* fitted */\n",
       "  background: var(--sklearn-color-fitted-level-0);\n",
       "  border: var(--sklearn-color-fitted-level-3);\n",
       "}\n",
       "\n",
       ".sk-estimator-doc-link:hover span {\n",
       "  display: block;\n",
       "}\n",
       "\n",
       "/* \"?\"-specific style due to the `<a>` HTML tag */\n",
       "\n",
       "#sk-container-id-2 a.estimator_doc_link {\n",
       "  float: right;\n",
       "  font-size: 1rem;\n",
       "  line-height: 1em;\n",
       "  font-family: monospace;\n",
       "  background-color: var(--sklearn-color-background);\n",
       "  border-radius: 1rem;\n",
       "  height: 1rem;\n",
       "  width: 1rem;\n",
       "  text-decoration: none;\n",
       "  /* unfitted */\n",
       "  color: var(--sklearn-color-unfitted-level-1);\n",
       "  border: var(--sklearn-color-unfitted-level-1) 1pt solid;\n",
       "}\n",
       "\n",
       "#sk-container-id-2 a.estimator_doc_link.fitted {\n",
       "  /* fitted */\n",
       "  border: var(--sklearn-color-fitted-level-1) 1pt solid;\n",
       "  color: var(--sklearn-color-fitted-level-1);\n",
       "}\n",
       "\n",
       "/* On hover */\n",
       "#sk-container-id-2 a.estimator_doc_link:hover {\n",
       "  /* unfitted */\n",
       "  background-color: var(--sklearn-color-unfitted-level-3);\n",
       "  color: var(--sklearn-color-background);\n",
       "  text-decoration: none;\n",
       "}\n",
       "\n",
       "#sk-container-id-2 a.estimator_doc_link.fitted:hover {\n",
       "  /* fitted */\n",
       "  background-color: var(--sklearn-color-fitted-level-3);\n",
       "}\n",
       "</style><div id=\"sk-container-id-2\" class=\"sk-top-container\"><div class=\"sk-text-repr-fallback\"><pre> ARIMA(1,0,1)(1,0,1)[7] intercept</pre><b>In a Jupyter environment, please rerun this cell to show the HTML representation or trust the notebook. <br />On GitHub, the HTML representation is unable to render, please try loading this page with nbviewer.org.</b></div><div class=\"sk-container\" hidden><div class=\"sk-item\"><div class=\"sk-estimator fitted sk-toggleable\"><input class=\"sk-toggleable__control sk-hidden--visually\" id=\"sk-estimator-id-2\" type=\"checkbox\" checked><label for=\"sk-estimator-id-2\" class=\"sk-toggleable__label fitted sk-toggleable__label-arrow\"><div><div>ARIMA</div></div><div><span class=\"sk-estimator-doc-link fitted\">i<span>Fitted</span></span></div></label><div class=\"sk-toggleable__content fitted\"><pre> ARIMA(1,0,1)(1,0,1)[7] intercept</pre></div> </div></div></div></div>"
      ],
      "text/plain": [
       "ARIMA(order=(1, 0, 1), seasonal_order=(1, 0, 1, 7))"
      ]
     },
     "execution_count": 95,
     "metadata": {},
     "output_type": "execute_result"
    }
   ],
   "source": [
    "tuned_model.fit(y,X)"
   ]
  },
  {
   "cell_type": "code",
   "execution_count": 97,
   "metadata": {},
   "outputs": [],
   "source": [
    "predictions = tuned_model.predict(n_periods=len(X_future),X = X_future)"
   ]
  },
  {
   "cell_type": "code",
   "execution_count": 104,
   "metadata": {},
   "outputs": [
    {
     "data": {
      "text/plain": [
       "DatetimeIndex(['2022-12-01', '2022-12-02', '2022-12-03', '2022-12-04',\n",
       "               '2022-12-05', '2022-12-06', '2022-12-07', '2022-12-08',\n",
       "               '2022-12-09', '2022-12-10', '2022-12-11', '2022-12-12',\n",
       "               '2022-12-13', '2022-12-14', '2022-12-15', '2022-12-16',\n",
       "               '2022-12-17', '2022-12-18', '2022-12-19', '2022-12-20',\n",
       "               '2022-12-21', '2022-12-22', '2022-12-23', '2022-12-24',\n",
       "               '2022-12-25', '2022-12-26', '2022-12-27', '2022-12-28',\n",
       "               '2022-12-29', '2022-12-30', '2022-12-31'],\n",
       "              dtype='datetime64[ns]', freq='D')"
      ]
     },
     "execution_count": 104,
     "metadata": {},
     "output_type": "execute_result"
    }
   ],
   "source": [
    "predictions.index"
   ]
  },
  {
   "cell_type": "code",
   "execution_count": 121,
   "metadata": {},
   "outputs": [],
   "source": [
    "# Data Visualizations\n",
    "def plot_future(test,predictions,title=None,path=None):\n",
    "    plt.figure(figsize=(10,4))\n",
    "    plt.plot(test,label=\"Test\")\n",
    "    plt.plot(predictions,label=\"Predictions\")\n",
    "    plt.title(f\"Train and Forecast with {title}\")\n",
    "    plt.legend()\n",
    "    plt.savefig(f\"../visualizations/Forecast/{path}.png\")\n",
    "    plt.show()"
   ]
  },
  {
   "cell_type": "code",
   "execution_count": 122,
   "metadata": {},
   "outputs": [
    {
     "data": {
      "image/png": "[encoded data removed]",
      "text/plain": [
       "<Figure size 1000x400 with 1 Axes>"
      ]
     },
     "metadata": {},
     "output_type": "display_data"
    }
   ],
   "source": [
    "plot_future(y,predictions,\"SARIMAX\",'finetuned_sarmax')"
   ]
  },
  {
   "cell_type": "code",
   "execution_count": 124,
   "metadata": {},
   "outputs": [
    {
     "data": {
      "image/png": "[encoded data removed]",
      "text/plain": [
       "<Figure size 1000x400 with 1 Axes>"
      ]
     },
     "metadata": {},
     "output_type": "display_data"
    }
   ],
   "source": [
    "plot_future(y['2022'],predictions,\"SARIMAX\",'finetuned_zoomed_sarmax')"
   ]
  },
  {
   "cell_type": "code",
   "execution_count": null,
   "metadata": {},
   "outputs": [],
   "source": []
  }
 ],
 "metadata": {
  "kernelspec": {
   "display_name": "timeVenv",
   "language": "python",
   "name": "python3"
  },
  "language_info": {
   "codemirror_mode": {
    "name": "ipython",
    "version": 3
   },
   "file_extension": ".py",
   "mimetype": "text/x-python",
   "name": "python",
   "nbconvert_exporter": "python",
   "pygments_lexer": "ipython3",
   "version": "3.10.6"
  }
 },
 "nbformat": 4,
 "nbformat_minor": 2
}
